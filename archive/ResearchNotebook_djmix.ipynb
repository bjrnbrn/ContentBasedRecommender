{
 "cells": [
  {
   "attachments": {},
   "cell_type": "markdown",
   "metadata": {},
   "source": [
    "## DJMix Python Package and Dataset"
   ]
  },
  {
   "attachments": {},
   "cell_type": "markdown",
   "metadata": {},
   "source": [
    "#### *Source:*\n",
    "\n",
    "[The DJ Mix Dataset](https://github.com/mir-aidj/djmix-dataset)\n",
    "\n",
    "[A Computational Analysis of Real-World DJ Mixes using Mix-To-Track Subsequence Alignment](https://github.com/mir-aidj/djmix-analysis)"
   ]
  },
  {
   "cell_type": "code",
   "execution_count": null,
   "metadata": {},
   "outputs": [],
   "source": [
    "import djmix as dj\n",
    "import pandas as pd"
   ]
  },
  {
   "cell_type": "code",
   "execution_count": null,
   "metadata": {},
   "outputs": [],
   "source": [
    "mixes = pd.DataFrame(dj.mixes)"
   ]
  },
  {
   "cell_type": "code",
   "execution_count": null,
   "metadata": {},
   "outputs": [],
   "source": [
    "mixes_columns = [\n",
    "    'mix_id',\n",
    "    'mix_title',\n",
    "    'url',\n",
    "    'audio_source',\n",
    "    'audio_url',\n",
    "    'identified_tracks',\n",
    "    'tracks',\n",
    "    'transitions',\n",
    "    'timestamps',\n",
    "    'tracklist',\n",
    "    'genre'\n",
    "]"
   ]
  },
  {
   "cell_type": "code",
   "execution_count": null,
   "metadata": {},
   "outputs": [],
   "source": [
    "tracks_columns = [\n",
    "    'track_id',\n",
    "    'track_title'\n",
    "]"
   ]
  },
  {
   "cell_type": "code",
   "execution_count": null,
   "metadata": {},
   "outputs": [],
   "source": [
    "mixes.columns = mixes_columns"
   ]
  },
  {
   "cell_type": "code",
   "execution_count": null,
   "metadata": {},
   "outputs": [],
   "source": [
    "mixes = mixes.applymap(lambda x: x[1])"
   ]
  },
  {
   "cell_type": "code",
   "execution_count": null,
   "metadata": {},
   "outputs": [],
   "source": [
    "mixes['genre'] = mixes['genre'].apply(lambda x: x[-1]['key'].replace('Category:', ''))"
   ]
  },
  {
   "cell_type": "code",
   "execution_count": null,
   "metadata": {},
   "outputs": [],
   "source": [
    "genre_counts = mixes.groupby('genre')['mix_id'].count().sort_values(ascending=False)"
   ]
  },
  {
   "cell_type": "code",
   "execution_count": null,
   "metadata": {},
   "outputs": [],
   "source": [
    "genres_to_drop = [\n",
    "    'Dekmantel Festival',\n",
    "    'Juno Plus Podcast'\n",
    "]\n",
    "\n",
    "genres_to_normalize = [\n",
    "    'Disco',\n",
    "    'Minimal',\n",
    "    'Dub Techno',\n",
    "    'Vocal House',\n",
    "    'Techno',\n",
    "    'Progressive',\n",
    "    'Tech House',\n",
    "    'House',\n",
    "    'Deep House',\n",
    "    'Drum & Bass',\n",
    "    'Progressive House',\n",
    "    'Progressive Trance',\n",
    "    'Trance',\n",
    "    'Deep Tech House',\n",
    "    'Psytrance'\n",
    "]"
   ]
  },
  {
   "cell_type": "code",
   "execution_count": null,
   "metadata": {},
   "outputs": [],
   "source": [
    "mixes = mixes[mixes.identified_tracks / mixes.tracks > 0.5]\n",
    "len(mixes)"
   ]
  },
  {
   "cell_type": "code",
   "execution_count": null,
   "metadata": {},
   "outputs": [],
   "source": [
    "mixes['genre']"
   ]
  },
  {
   "cell_type": "code",
   "execution_count": null,
   "metadata": {},
   "outputs": [],
   "source": [
    "mixes = mixes[~mixes.genre.isin(genres_to_drop)]\n",
    "len(mixes)"
   ]
  },
  {
   "cell_type": "code",
   "execution_count": null,
   "metadata": {},
   "outputs": [],
   "source": [
    "mixes = mixes[~mixes.genre.isin(genres_to_normalize)]\n",
    "len(mixes)"
   ]
  },
  {
   "cell_type": "code",
   "execution_count": null,
   "metadata": {},
   "outputs": [],
   "source": [
    "mixes['year'] = mixes.mix_title.str[:4]"
   ]
  },
  {
   "cell_type": "code",
   "execution_count": null,
   "metadata": {},
   "outputs": [],
   "source": [
    "mixes.columns"
   ]
  },
  {
   "cell_type": "code",
   "execution_count": null,
   "metadata": {},
   "outputs": [],
   "source": [
    "mixes_clean = mixes[['mix_id', 'year', 'identified_tracks', 'tracks', 'genre', 'tracklist']]"
   ]
  },
  {
   "cell_type": "code",
   "execution_count": null,
   "metadata": {},
   "outputs": [],
   "source": [
    "mixes_clean = mixes_clean.reset_index(drop=True)"
   ]
  },
  {
   "cell_type": "code",
   "execution_count": null,
   "metadata": {},
   "outputs": [],
   "source": [
    "mixes_clean"
   ]
  },
  {
   "cell_type": "code",
   "execution_count": null,
   "metadata": {},
   "outputs": [],
   "source": [
    "mixes_limit = mixes_clean[mixes_clean.identified_tracks < 11]"
   ]
  },
  {
   "cell_type": "code",
   "execution_count": null,
   "metadata": {},
   "outputs": [],
   "source": [
    "mixes_limit.genre.value_counts()"
   ]
  },
  {
   "cell_type": "code",
   "execution_count": null,
   "metadata": {},
   "outputs": [],
   "source": [
    "mixes_limit"
   ]
  },
  {
   "cell_type": "code",
   "execution_count": null,
   "metadata": {},
   "outputs": [],
   "source": [
    "track_ids = []\n",
    "for tracks in mixes_limit.tracklist:\n",
    "    for track in tracks:\n",
    "        track_ids.append(track.id)"
   ]
  },
  {
   "cell_type": "code",
   "execution_count": null,
   "metadata": {},
   "outputs": [],
   "source": [
    "len(track_ids)"
   ]
  },
  {
   "cell_type": "code",
   "execution_count": null,
   "metadata": {},
   "outputs": [],
   "source": [
    "track_ids = set(track_ids)"
   ]
  },
  {
   "cell_type": "code",
   "execution_count": null,
   "metadata": {},
   "outputs": [],
   "source": [
    "import os\n",
    "\n",
    "file_ids = []\n",
    "path = '/Users/bjornbraun/djmix/tracks/'\n",
    "files = os.listdir(path)\n",
    "for file in files:\n",
    "    file_id = file[:-8]\n",
    "    file_ids.append(file_id)\n",
    "\n",
    "file_ids = set(file_ids)"
   ]
  },
  {
   "cell_type": "code",
   "execution_count": null,
   "metadata": {},
   "outputs": [],
   "source": [
    "track_file_ids = track_ids.intersection(file_ids)"
   ]
  },
  {
   "cell_type": "code",
   "execution_count": null,
   "metadata": {},
   "outputs": [],
   "source": [
    "len(track_ids)"
   ]
  },
  {
   "cell_type": "code",
   "execution_count": null,
   "metadata": {},
   "outputs": [],
   "source": [
    "len(track_file_ids)"
   ]
  },
  {
   "cell_type": "code",
   "execution_count": null,
   "metadata": {},
   "outputs": [],
   "source": [
    "len(track_ids) - len(track_file_ids)"
   ]
  },
  {
   "cell_type": "code",
   "execution_count": null,
   "metadata": {},
   "outputs": [],
   "source": [
    "mix_ids = list(mixes_limit['mix_id'])"
   ]
  },
  {
   "cell_type": "code",
   "execution_count": null,
   "metadata": {},
   "outputs": [],
   "source": [
    "len(mix_ids)"
   ]
  },
  {
   "cell_type": "code",
   "execution_count": null,
   "metadata": {},
   "outputs": [],
   "source": [
    "# i = 1\n",
    "# j = len(mix_ids)\n",
    "# for mix in dj.mixes:\n",
    "#     if mix.id in mix_ids:\n",
    "#         print('----------------------------------------')\n",
    "#         print(f'D O W N L O A D I N G  M I X:   {mix.id}')\n",
    "#         print(f'MIX NO {str(i)} of {str(j)} MIXES TOTAL')\n",
    "#         print('----------------------------------------')\n",
    "#         mix.download()\n",
    "#         i += 1"
   ]
  },
  {
   "cell_type": "code",
   "execution_count": null,
   "metadata": {},
   "outputs": [],
   "source": [
    "# All Tracks of djmix package\n",
    "tracks = pd.DataFrame(dj.tracks.values())\n",
    "tracks.columns = tracks_columns\n",
    "tracks = tracks.applymap(lambda x: x[1])\n",
    "tracks.head()"
   ]
  }
 ],
 "metadata": {
  "kernelspec": {
   "display_name": "base",
   "language": "python",
   "name": "python3"
  },
  "language_info": {
   "codemirror_mode": {
    "name": "ipython",
    "version": 3
   },
   "file_extension": ".py",
   "mimetype": "text/x-python",
   "name": "python",
   "nbconvert_exporter": "python",
   "pygments_lexer": "ipython3",
   "version": "3.10.9"
  },
  "orig_nbformat": 4
 },
 "nbformat": 4,
 "nbformat_minor": 2
}
