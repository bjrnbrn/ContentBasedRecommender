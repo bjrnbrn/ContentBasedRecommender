{
 "cells": [
  {
   "attachments": {},
   "cell_type": "markdown",
   "metadata": {},
   "source": [
    "# **Research for Automatic Playlist Generation using ML Algorithms**\n",
    "#### A. Podcast-like Playlists:\n",
    "\n",
    "    - Categorical Taggs (Genre, Era/Year, Label, Producers)\n",
    "    - Qualitative Tags (Dancebility, BPM, Key, Vocal/Instrumental)\n",
    "\n",
    "#### B. Mixtape-like Playlists:\n",
    "    \n",
    "    - Audio Features\n",
    "    - Feature Similarity Measures \n",
    "    \n",
    "        - Harmony\n",
    "        - Rhythm\n",
    "        - Sound\n",
    "        - Instrumentation\n",
    "        - Mood/Sentiment\n",
    "        - Dynamic\n",
    "\n",
    "#### C. DJ-Mixes:\n",
    "\n",
    "    - Start/Intro & End/Outro Features of Songs\n",
    "    - Beat Matching Features\n",
    "    - Song to Song Transition Features\n",
    "    - Story Telling Features over whole Song Sequence    \n",
    "    - Coherence Measures for Transitions & Sequences\n",
    "\n",
    "## Overview: State of the Art Approaches by Model Type\n",
    "#### Recommender System Techniques:\n",
    "\n",
    "**What are the Recommendations / the generated Playlists based on?**\n",
    "\n",
    "    - emotion / mood\n",
    "    - input song\n",
    "    - playlist coherence\n",
    "    - genre\n",
    "    - user taste\n",
    "    - popularity\n",
    "\n",
    "**2 opposing principles:**\n",
    "\n",
    "    - Collaborative filtering: Matrix Factorization, alternating least squares\n",
    "    - Content-based approaches: Input is music information fetched through analysis of music audio data (MIR)\n",
    "\n",
    "\n",
    "**More recent approaches:**\n",
    "\n",
    "    - Sequence-aware music recommendation:\n",
    "        - Next track recommendatons\n",
    "        - Automatic playlist continuation (APC)\n",
    "\n",
    "## Possible Datasets & Feature Selection\n",
    "[**Melon Music Dataset**](https://github.com/MTG/melon-music-dataset)\n",
    "\n",
    "[last.fm Dataset](https://zenodo.org/record/6090214)\n",
    "\n",
    "[MTG Barcelona Datasets & Software](https://www.upf.edu/web/mtg/software-datasets)\n",
    "\n",
    "[Kaggle: Spotify Tracks Dataset](https://www.kaggle.com/datasets/maharshipandya/-spotify-tracks-dataset?datasetId=2570056&sortBy=voteCount)\n",
    "\n",
    "[Kaggle: Spotify Playlists Dataset](https://www.kaggle.com/datasets/andrewmvd/spotify-playlists?datasetId=1720572&sortBy=voteCount)\n",
    "## Possible Models and Approaches with respect to 'business' goal\n",
    "#### YOUTUBE VIDEOS:\n",
    "\n",
    "[Spotify Playlist Generation](https://www.youtube.com/watch?v=3vvvjdmBoyc&list=PL-wATfeyAMNrTEgZyfF66TwejA0MRX7x1&index=2)\n",
    "\n",
    "\n",
    "\n",
    "\n",
    "#### PYTHON AUDIO ANALYSIS PACKAGES:\n",
    "[**Essentia (ML Application ready)**](https://essentia.upf.edu/)\n",
    "\n",
    "[Essentia citing papers](https://essentia.upf.edu/research_papers.html)\n",
    "\n",
    "[Librosa (lightweigth analysis)](https://librosa.org/doc/main/feature.html)"
   ]
  },
  {
   "attachments": {},
   "cell_type": "markdown",
   "metadata": {},
   "source": [
    "## 1. Project Goal"
   ]
  },
  {
   "attachments": {},
   "cell_type": "markdown",
   "metadata": {},
   "source": [
    "    Automatically generate Playlists from input songs of your library of liked songs or lokal music audio files with a content based approach by analysing existing DJ mixes and their tracklist\n",
    "\n",
    "**Input:** *Array of songs, for example: all likes on Spotify, your music library*\n",
    "\n",
    "**Output:** *Ordered Sequence(s) of Songs / Playlists*"
   ]
  },
  {
   "attachments": {},
   "cell_type": "markdown",
   "metadata": {},
   "source": [
    "## 2. Approach Brainstorming"
   ]
  },
  {
   "attachments": {},
   "cell_type": "markdown",
   "metadata": {},
   "source": [
    "## DJMix Python Package and Dataset"
   ]
  },
  {
   "attachments": {},
   "cell_type": "markdown",
   "metadata": {},
   "source": [
    "[Youtube to Spotify mapping](https://www.geeksforgeeks.org/automate-youtube-music-to-spotify-with-python/)"
   ]
  },
  {
   "attachments": {},
   "cell_type": "markdown",
   "metadata": {},
   "source": [
    "#### *Source:*\n",
    "\n",
    "[The DJ Mix Dataset](https://github.com/mir-aidj/djmix-dataset)\n",
    "\n",
    "[A Computational Analysis of Real-World DJ Mixes using Mix-To-Track Subsequence Alignment](https://github.com/mir-aidj/djmix-analysis)"
   ]
  },
  {
   "cell_type": "code",
   "execution_count": null,
   "metadata": {},
   "outputs": [],
   "source": [
    "import djmix as dj\n",
    "import pandas as pd"
   ]
  },
  {
   "cell_type": "code",
   "execution_count": null,
   "metadata": {},
   "outputs": [],
   "source": [
    "mixes = pd.DataFrame(dj.mixes)"
   ]
  },
  {
   "cell_type": "code",
   "execution_count": null,
   "metadata": {},
   "outputs": [],
   "source": [
    "mixes_columns = [\n",
    "    'mix_id',\n",
    "    'mix_title',\n",
    "    'url',\n",
    "    'audio_source',\n",
    "    'audio_url',\n",
    "    'identified_tracks',\n",
    "    'tracks',\n",
    "    'transitions',\n",
    "    'timestamps',\n",
    "    'tracklist',\n",
    "    'tags'\n",
    "]"
   ]
  },
  {
   "cell_type": "code",
   "execution_count": null,
   "metadata": {},
   "outputs": [],
   "source": [
    "tracks_columns = [\n",
    "    'track_id',\n",
    "    'track_title'\n",
    "]"
   ]
  },
  {
   "cell_type": "code",
   "execution_count": null,
   "metadata": {},
   "outputs": [],
   "source": [
    "mixes.columns = mixes_columns"
   ]
  },
  {
   "cell_type": "code",
   "execution_count": null,
   "metadata": {},
   "outputs": [],
   "source": [
    "mixes.loc[0]"
   ]
  },
  {
   "cell_type": "code",
   "execution_count": null,
   "metadata": {},
   "outputs": [],
   "source": [
    "mixes.info()"
   ]
  },
  {
   "cell_type": "code",
   "execution_count": null,
   "metadata": {},
   "outputs": [],
   "source": [
    "mixes = mixes.applymap(lambda x: x[1])"
   ]
  },
  {
   "cell_type": "code",
   "execution_count": null,
   "metadata": {},
   "outputs": [],
   "source": [
    "mixes[['mix_id', 'identified_tracks', 'tracks', 'transitions', 'timestamps', 'tracklist', 'tags' ]]"
   ]
  },
  {
   "cell_type": "code",
   "execution_count": null,
   "metadata": {},
   "outputs": [],
   "source": [
    "mixes.loc[4958]"
   ]
  },
  {
   "cell_type": "code",
   "execution_count": null,
   "metadata": {},
   "outputs": [],
   "source": [
    "dj.mixes[4958]"
   ]
  },
  {
   "cell_type": "code",
   "execution_count": null,
   "metadata": {},
   "outputs": [],
   "source": [
    "bollek = dj.mixes[4958]"
   ]
  },
  {
   "cell_type": "code",
   "execution_count": null,
   "metadata": {},
   "outputs": [],
   "source": [
    "bollek.tracklist"
   ]
  },
  {
   "cell_type": "code",
   "execution_count": null,
   "metadata": {},
   "outputs": [],
   "source": [
    "df_bollek = pd.DataFrame(bollek.tracklist)"
   ]
  },
  {
   "cell_type": "code",
   "execution_count": null,
   "metadata": {},
   "outputs": [],
   "source": [
    "df_bollek.columns = tracks_columns"
   ]
  },
  {
   "cell_type": "code",
   "execution_count": null,
   "metadata": {},
   "outputs": [],
   "source": [
    "df_bollek = df_bollek.applymap(lambda x: x[1])"
   ]
  },
  {
   "cell_type": "code",
   "execution_count": null,
   "metadata": {},
   "outputs": [],
   "source": [
    "df_bollek"
   ]
  },
  {
   "cell_type": "code",
   "execution_count": null,
   "metadata": {},
   "outputs": [],
   "source": [
    "bollek.tags"
   ]
  },
  {
   "cell_type": "code",
   "execution_count": null,
   "metadata": {},
   "outputs": [],
   "source": [
    "tracks = pd.DataFrame(dj.tracks.values())"
   ]
  },
  {
   "cell_type": "code",
   "execution_count": null,
   "metadata": {},
   "outputs": [],
   "source": [
    "tracks.columns = tracks_columns"
   ]
  },
  {
   "cell_type": "code",
   "execution_count": null,
   "metadata": {},
   "outputs": [],
   "source": [
    "tracks = tracks.applymap(lambda x: x[1])"
   ]
  },
  {
   "cell_type": "code",
   "execution_count": null,
   "metadata": {},
   "outputs": [],
   "source": [
    "tracks"
   ]
  },
  {
   "cell_type": "code",
   "execution_count": null,
   "metadata": {},
   "outputs": [],
   "source": [
    "import json\n",
    "\n",
    "with open('./djmix-dataset.json', 'r') as f:\n",
    "    mixdatabase = json.load(f)"
   ]
  },
  {
   "cell_type": "code",
   "execution_count": null,
   "metadata": {},
   "outputs": [],
   "source": [
    "json_mixes_db = pd.DataFrame(mixdatabase)"
   ]
  },
  {
   "cell_type": "code",
   "execution_count": null,
   "metadata": {},
   "outputs": [],
   "source": [
    "json_mixes_db.columns = mixes_columns"
   ]
  },
  {
   "cell_type": "code",
   "execution_count": null,
   "metadata": {},
   "outputs": [],
   "source": [
    "json_mixes_db[['mix_id', 'identified_tracks', 'tracks', 'transitions', 'timestamps', 'tracklist', 'tags' ]]"
   ]
  },
  {
   "cell_type": "code",
   "execution_count": null,
   "metadata": {},
   "outputs": [],
   "source": [
    "track_list_all = []\n",
    "for mix in dj.mixes:\n",
    "    track_list_all.append(mix.tracklist)"
   ]
  },
  {
   "cell_type": "code",
   "execution_count": null,
   "metadata": {},
   "outputs": [],
   "source": [
    "track_list_all[0][0].id"
   ]
  },
  {
   "cell_type": "code",
   "execution_count": null,
   "metadata": {},
   "outputs": [],
   "source": [
    "mixes_tracks = pd.DataFrame(track_list_all)"
   ]
  },
  {
   "cell_type": "code",
   "execution_count": null,
   "metadata": {},
   "outputs": [],
   "source": [
    "mixes_tracks.applymap(lambda x: x.id if x != None else None)"
   ]
  },
  {
   "cell_type": "code",
   "execution_count": null,
   "metadata": {},
   "outputs": [],
   "source": [
    "mixes_tracks = mixes_tracks.applymap(lambda x: x.id if x != None else None).reset_index(names='mix_id')"
   ]
  },
  {
   "cell_type": "code",
   "execution_count": null,
   "metadata": {},
   "outputs": [],
   "source": [
    "mixes_tracks"
   ]
  }
 ],
 "metadata": {
  "kernelspec": {
   "display_name": "base",
   "language": "python",
   "name": "python3"
  },
  "language_info": {
   "codemirror_mode": {
    "name": "ipython",
    "version": 3
   },
   "file_extension": ".py",
   "mimetype": "text/x-python",
   "name": "python",
   "nbconvert_exporter": "python",
   "pygments_lexer": "ipython3",
   "version": "3.10.9"
  },
  "orig_nbformat": 4
 },
 "nbformat": 4,
 "nbformat_minor": 2
}
