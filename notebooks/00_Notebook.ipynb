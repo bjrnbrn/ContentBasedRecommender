{
 "cells": [
  {
   "cell_type": "code",
   "execution_count": 4,
   "metadata": {},
   "outputs": [],
   "source": [
    "from pathlib import Path\n",
    "BASE = Path('__file__').resolve().parent.parent"
   ]
  },
  {
   "cell_type": "code",
   "execution_count": 6,
   "metadata": {},
   "outputs": [
    {
     "data": {
      "text/plain": [
       "PosixPath('/Users/bjornbraun/Desktop/repositories/spiced/nigela-network-student-code/finalproject/data')"
      ]
     },
     "execution_count": 6,
     "metadata": {},
     "output_type": "execute_result"
    }
   ],
   "source": [
    "BASE / 'data'"
   ]
  },
  {
   "cell_type": "code",
   "execution_count": null,
   "metadata": {},
   "outputs": [],
   "source": [
    "BASE = Path('__file__').resolve().parent.parent\n",
    "BASE"
   ]
  },
  {
   "cell_type": "code",
   "execution_count": 2,
   "metadata": {},
   "outputs": [],
   "source": [
    "# Change utility functions of eda\n",
    "import numpy as np\n",
    "import cv2\n",
    "import os\n",
    "\n",
    "\n",
    "\n",
    "def load_image(file_path):\n",
    "    \"\"\"Load an image from a given file path.\"\"\"\n",
    "    return cv2.imread(file_path)\n",
    "\n",
    "\n",
    "def extract_label(track_id, tracks):\n",
    "    \"\"\"Extract the label (genre) for a given track ID.\"\"\"\n",
    "    genre = tracks.loc[tracks['track_id'] == track_id, 'genre'].values[0]\n",
    "    return genre\n",
    "\n",
    "\n",
    "def load_train_data(tracks, feature_type, label_type):\n",
    "    X = []\n",
    "    y = []\n",
    "    file_path = f'../data/{feature_type}/train/'\n",
    "\n",
    "    labels = [label for label in os.listdir(file_path) if os.path.isdir(os.path.join(file_path, label))]\n",
    "    track_ids = tracks['track_id'].tolist()\n",
    "\n",
    "    for label in labels:\n",
    "        label_dir = os.path.join(file_path, label)\n",
    "        feature_files = [file for file in os.listdir(label_dir) if file.split('.')[0] in track_ids]\n",
    "\n",
    "        for feature_file in feature_files:\n",
    "            feature_path = os.path.join(label_dir, feature_file)\n",
    "            feature_id = feature_file.split('.')[0]\n",
    "\n",
    "            feature = load_image(feature_path)\n",
    "            genre = extract_label(feature_id, tracks)\n",
    "            mix = label\n",
    "\n",
    "            X.append(feature)\n",
    "            if label_type == 'mix':\n",
    "                y.append(mix)\n",
    "            elif label_type == 'genre':\n",
    "                y.append(genre)\n",
    "\n",
    "    X = np.array(X)\n",
    "    num_classes = len(set(y))\n",
    "    print(\n",
    "        '\\nTRAINING DATA:'\n",
    "        f'\\nNo. of Images:             {len(X)}'\n",
    "        f'\\nNo. of labeled Images:     {len(y)}'\n",
    "        f'\\nNo. of unique Labels:      {num_classes}'\n",
    "    )\n",
    "    return X, y, num_classes\n"
   ]
  },
  {
   "cell_type": "code",
   "execution_count": null,
   "metadata": {},
   "outputs": [],
   "source": []
  }
 ],
 "metadata": {
  "kernelspec": {
   "display_name": "miniconda-m1",
   "language": "python",
   "name": "python3"
  },
  "language_info": {
   "codemirror_mode": {
    "name": "ipython",
    "version": 3
   },
   "file_extension": ".py",
   "mimetype": "text/x-python",
   "name": "python",
   "nbconvert_exporter": "python",
   "pygments_lexer": "ipython3",
   "version": "3.10.10"
  },
  "orig_nbformat": 4
 },
 "nbformat": 4,
 "nbformat_minor": 2
}
