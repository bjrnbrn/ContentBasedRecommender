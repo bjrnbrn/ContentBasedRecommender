{
 "cells": [
  {
   "cell_type": "code",
   "execution_count": 7,
   "metadata": {},
   "outputs": [],
   "source": [
    "import os\n",
    "import pandas as pd\n",
    "import librosa\n",
    "from eda import Mixes, Tracks"
   ]
  },
  {
   "cell_type": "code",
   "execution_count": 8,
   "metadata": {},
   "outputs": [],
   "source": [
    "def get_audio_features(audio_path):\n",
    "    track_id = os.path.splitext(os.path.basename(audio_path))[0]\n",
    "    track_ext = os.path.splitext(os.path.basename(audio_path))[1]\n",
    "\n",
    "    audio_data, sr = librosa.load(audio_path, sr=None)\n",
    "    duration = librosa.get_duration(y=audio_data, sr=sr)\n",
    "    num_channels = audio_data.shape[1] if len(audio_data.shape) > 1 else 1\n",
    "    amplitude_range = (audio_data.min(), audio_data.max())\n",
    "    spectral_centroid = librosa.feature.spectral_centroid(y=audio_data, sr=sr)\n",
    "    zero_crossing_rate = librosa.feature.zero_crossing_rate(y=audio_data)\n",
    "    mel_spectrogram = librosa.feature.melspectrogram(y=audio_data, sr=sr)\n",
    "    features = {\n",
    "        'track_id': track_id,\n",
    "        'sample_rate': sr,\n",
    "        'duration': duration,\n",
    "        'num_channels': num_channels,\n",
    "        'amplitude_range': amplitude_range,\n",
    "        'spectral_centroid': spectral_centroid,\n",
    "        'zero_crossing_rate': zero_crossing_rate,\n",
    "        'mel_spectrogram': mel_spectrogram,\n",
    "        'track_ext': track_ext,\n",
    "        'input_path': audio_path\n",
    "    }\n",
    "    return features\n"
   ]
  },
  {
   "cell_type": "code",
   "execution_count": 9,
   "metadata": {},
   "outputs": [],
   "source": [
    "# folder_path = '../audio/'\n",
    "# track_features = {}\n",
    "\n",
    "# for file_name in os.listdir(folder_path):\n",
    "#     if file_name.endswith('.wav') or file_name.endswith('.mp3') or file_name.endswith('.flac') or file_name.endswith('.aif'):\n",
    "#         file_path = os.path.join(folder_path, file_name)\n",
    "\n",
    "#         features = get_audio_features(file_path)\n",
    "\n",
    "#         track_id = os.path.splitext(file_name)[0]\n",
    "#         track_features[track_id] = features"
   ]
  },
  {
   "cell_type": "code",
   "execution_count": 10,
   "metadata": {},
   "outputs": [],
   "source": [
    "# track_features"
   ]
  },
  {
   "cell_type": "code",
   "execution_count": 11,
   "metadata": {},
   "outputs": [],
   "source": [
    "# train_folder_path = '../data/tracks/'\n",
    "# output_folder_path = '../data/'\n",
    "# batch_features = []\n",
    "\n",
    "# for i, file_name in enumerate(os.listdir(train_folder_path)):\n",
    "\n",
    "#     if file_name.endswith('.mp3'):\n",
    "\n",
    "#         file_path = os.path.join(train_folder_path, file_name)\n",
    "\n",
    "#         features = get_audio_features(file_path)\n",
    "\n",
    "#         track_id = os.path.splitext(file_name)[0]\n",
    "#         batch_features.append({'track_id': track_id, **features})\n",
    "\n",
    "#         # Save features in CSV file every batch_size files or on the last iteration\n",
    "#         if (i + 1) % 300 == 0 or i == len(os.listdir(train_folder_path)) - 1:\n",
    "#             df = pd.DataFrame(batch_features)\n",
    "\n",
    "#             batch_number = int((i + 1) / 300)  # Calculate batch number\n",
    "#             csv_filename = f'batch_{batch_number}.csv'\n",
    "#             csv_filepath = os.path.join(output_folder_path, csv_filename)\n",
    "#             df.to_csv(csv_filepath, index=False)\n",
    "\n",
    "#             # Clear the batch features list\n",
    "#             batch_features = []\n"
   ]
  },
  {
   "cell_type": "code",
   "execution_count": 12,
   "metadata": {},
   "outputs": [
    {
     "name": "stderr",
     "output_type": "stream",
     "text": [
      "/var/folders/sn/zz32wyd938j2bblqhcs5jn180000gn/T/ipykernel_25630/455363276.py:5: UserWarning: PySoundFile failed. Trying audioread instead.\n",
      "  audio_data, sr = librosa.load(audio_path, sr=None)\n",
      "[src/libmpg123/parse.c:skip_junk():1276] error: Giving up searching valid MPEG header after 65536 bytes of junk.\n",
      "/Users/bjornbraun/miniconda3-m1/miniconda-m1/lib/python3.10/site-packages/librosa/core/audio.py:184: FutureWarning: librosa.core.audio.__audioread_load\n",
      "\tDeprecated as of librosa version 0.10.0.\n",
      "\tIt will be removed in librosa version 1.0.\n",
      "  y, sr_native = __audioread_load(path, offset, duration, dtype)\n",
      "/var/folders/sn/zz32wyd938j2bblqhcs5jn180000gn/T/ipykernel_25630/455363276.py:5: UserWarning: PySoundFile failed. Trying audioread instead.\n",
      "  audio_data, sr = librosa.load(audio_path, sr=None)\n",
      "[src/libmpg123/parse.c:skip_junk():1276] error: Giving up searching valid MPEG header after 65536 bytes of junk.\n",
      "/Users/bjornbraun/miniconda3-m1/miniconda-m1/lib/python3.10/site-packages/librosa/core/audio.py:184: FutureWarning: librosa.core.audio.__audioread_load\n",
      "\tDeprecated as of librosa version 0.10.0.\n",
      "\tIt will be removed in librosa version 1.0.\n",
      "  y, sr_native = __audioread_load(path, offset, duration, dtype)\n"
     ]
    },
    {
     "ename": "",
     "evalue": "",
     "output_type": "error",
     "traceback": [
      "\u001b[1;31mCanceled future for execute_request message before replies were done"
     ]
    },
    {
     "ename": "",
     "evalue": "",
     "output_type": "error",
     "traceback": [
      "\u001b[1;31mThe Kernel crashed while executing code in the the current cell or a previous cell. Please review the code in the cell(s) to identify a possible cause of the failure. Click <a href='https://aka.ms/vscodeJupyterKernelCrash'>here</a> for more info. View Jupyter <a href='command:jupyter.viewOutput'>log</a> for further details."
     ]
    }
   ],
   "source": [
    "train_folder_path = '../data/tracks/'\n",
    "output_folder_path = '../data/'\n",
    "\n",
    "mixes = Mixes('../data/djmix-dataset.json', 5, 20)\n",
    "tracks = Tracks(mixes)\n",
    "\n",
    "mix_features = {}\n",
    "batch_size = 300\n",
    "batch_count = 0\n",
    "\n",
    "\n",
    "for file_name in os.listdir(train_folder_path):\n",
    "\n",
    "    if file_name.endswith('.mp3'):\n",
    "\n",
    "        file_path = os.path.join(train_folder_path, file_name)\n",
    "        track_id = os.path.splitext(file_name)[0]\n",
    "        \n",
    "        mix_id = mixes.get(track_id, 'test')\n",
    "\n",
    "        features = get_audio_features(file_path)\n",
    "        \n",
    "        if mix_id not in mix_features:\n",
    "            mix_features[mix_id] = {}\n",
    "        \n",
    "        mix_features[mix_id][track_id] = {\n",
    "            'track_id': track_id,\n",
    "            'mix_id': mix_id,\n",
    "            'features': features\n",
    "        }\n",
    "        if len(mix_features[mix_id]) % batch_size == 0:\n",
    "            df = pd.DataFrame(mix_features[mix_id]).transpose()\n",
    "            batch_count += 1\n",
    "            csv_filename = f'{mix_id}_{batch_count}.csv'\n",
    "            csv_filepath = os.path.join(output_folder_path, csv_filename)\n",
    "            df.to_csv(csv_filepath)\n",
    "\n",
    "# Export track features to separate CSV files for each mix\n",
    "for mix_id, track_features in mix_features.items():\n",
    "\n",
    "    df = pd.DataFrame(track_features).transpose()\n",
    "\n",
    "    csv_filename = f'{mix_id}.csv'\n",
    "    csv_filepath = os.path.join(output_folder_path, csv_filename)\n",
    "    df.to_csv(csv_filepath)\n"
   ]
  },
  {
   "cell_type": "code",
   "execution_count": null,
   "metadata": {},
   "outputs": [],
   "source": []
  }
 ],
 "metadata": {
  "kernelspec": {
   "display_name": "miniconda-m1",
   "language": "python",
   "name": "python3"
  },
  "language_info": {
   "codemirror_mode": {
    "name": "ipython",
    "version": 3
   },
   "file_extension": ".py",
   "mimetype": "text/x-python",
   "name": "python",
   "nbconvert_exporter": "python",
   "pygments_lexer": "ipython3",
   "version": "3.10.10"
  },
  "orig_nbformat": 4
 },
 "nbformat": 4,
 "nbformat_minor": 2
}
