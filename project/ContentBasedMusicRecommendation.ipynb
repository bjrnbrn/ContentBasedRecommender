{
 "cells": [
  {
   "attachments": {},
   "cell_type": "markdown",
   "metadata": {},
   "source": [
    "# Automatic Playlist Generation:\n",
    "# A Content-Based Music Sequence Recommender System"
   ]
  },
  {
   "attachments": {},
   "cell_type": "markdown",
   "metadata": {},
   "source": [
    "## 1. Concept\n",
    "\n",
    "#### A. Podcast-like Playlists:\n",
    "\n",
    "    - Categorical Tags (Genre, Era/Year, Label, Producers)\n",
    "    - Qualitative Tags (Dancebility, BPM, Key, Vocal/Instrumental)\n",
    "\n",
    "#### B. Mixtape-like Playlists:\n",
    "    \n",
    "    - Audio Features\n",
    "    - Feature Similarity Measures \n",
    "    \n",
    "        - Harmony\n",
    "        - Rhythm\n",
    "        - Sound\n",
    "        - Instrumentation\n",
    "        - Mood/Sentiment\n",
    "        - Dynamic\n",
    "\n",
    "#### C. DJ-Mixes:\n",
    "\n",
    "    - Start/Intro & End/Outro Features of Songs\n",
    "    - Beat Matching Features\n",
    "    - Song to Song Transition Features\n",
    "    - Story Telling Features over whole Song Sequence    \n",
    "    - Coherence Measures for Transitions & Sequences\n",
    "\n",
    "\n",
    "\n",
    "## 2. Recommender Systems Overview: State of the Art Approaches\n",
    "\n",
    "#### A. Two General Approaches:\n",
    "\n",
    "    - Collaborative filtering: Matrix Factorization, alternating least squares\n",
    "    - Content-based approaches: Input is music information (basis of songs and/or \n",
    "      existing playlists) fetched through Music Information Retrieval (MIR) processes\n",
    "\n",
    "\n",
    "#### B. What are the Recommendations / the generated Playlists based on?\n",
    "\n",
    "    - emotion / mood\n",
    "    - genre\n",
    "    - user taste\n",
    "    - user similarity\n",
    "    - popularity\n",
    "\n",
    "\n",
    "#### C. More recent Approaches / Deep Learning Approaches\n",
    "\n",
    "    - Sequence-aware music recommendation:\n",
    "        - Next track recommendatons\n",
    "        - Automatic playlist continuation (APC)\n",
    "\n",
    "\n",
    "\n",
    "## 3. Possible Datasets, Models & Feature Selection\n",
    "\n",
    "#### A. Datasets:\n",
    "\n",
    "[**Melon Music Dataset**](https://github.com/MTG/melon-music-dataset)\n",
    "\n",
    "[last.fm Dataset](https://zenodo.org/record/6090214)\n",
    "\n",
    "[MTG Barcelona Datasets & Software](https://www.upf.edu/web/mtg/software-datasets)\n",
    "\n",
    "[Kaggle: Spotify Tracks Dataset](https://www.kaggle.com/datasets/maharshipandya/-spotify-tracks-dataset?datasetId=2570056&sortBy=voteCount)\n",
    "\n",
    "[Kaggle: Spotify Playlists Dataset](https://www.kaggle.com/datasets/andrewmvd/spotify-playlists?datasetId=1720572&sortBy=voteCount)\n",
    "\n",
    "\n",
    "#### B. Python Audio Analysis (MIR) Packages: \n",
    "\n",
    "[**Essentia (ML Application ready)**](https://essentia.upf.edu/)\n",
    "\n",
    "[Essentia citing papers](https://essentia.upf.edu/research_papers.html)\n",
    "\n",
    "[**Librosa (lightweigth analysis)**](https://librosa.org/doc/main/feature.html)\n",
    "\n",
    "\n",
    "#### C. Youtube Tutorials:\n",
    "\n",
    "[Spotify Playlist Generation](https://www.youtube.com/watch?v=3vvvjdmBoyc&list=PL-wATfeyAMNrTEgZyfF66TwejA0MRX7x1&index=2)\n",
    "\n"
   ]
  },
  {
   "attachments": {},
   "cell_type": "markdown",
   "metadata": {},
   "source": [
    "## LIBROSA"
   ]
  },
  {
   "cell_type": "code",
   "execution_count": 16,
   "metadata": {},
   "outputs": [],
   "source": [
    "import librosa\n",
    "import librosa.display\n",
    "import matplotlib.pyplot as plt\n",
    "from IPython.display import Audio\n",
    "import ipywidgets as widgets"
   ]
  },
  {
   "cell_type": "code",
   "execution_count": 2,
   "metadata": {},
   "outputs": [],
   "source": [
    "test_file = '../audio/Depeche Mode - I feel you.mp3'"
   ]
  },
  {
   "cell_type": "code",
   "execution_count": 3,
   "metadata": {},
   "outputs": [],
   "source": [
    "audio, sr = librosa.load(test_file)"
   ]
  },
  {
   "cell_type": "code",
   "execution_count": null,
   "metadata": {},
   "outputs": [],
   "source": []
  }
 ],
 "metadata": {
  "kernelspec": {
   "display_name": "base",
   "language": "python",
   "name": "python3"
  },
  "language_info": {
   "codemirror_mode": {
    "name": "ipython",
    "version": 3
   },
   "file_extension": ".py",
   "mimetype": "text/x-python",
   "name": "python",
   "nbconvert_exporter": "python",
   "pygments_lexer": "ipython3",
   "version": "3.10.9"
  },
  "orig_nbformat": 4
 },
 "nbformat": 4,
 "nbformat_minor": 2
}
