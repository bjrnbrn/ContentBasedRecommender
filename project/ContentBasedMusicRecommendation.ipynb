{
 "cells": [
  {
   "attachments": {},
   "cell_type": "markdown",
   "metadata": {},
   "source": [
    "# Automatic Playlist Generation:\n",
    "# A Content-Based Music Sequence Recommender System"
   ]
  },
  {
   "attachments": {},
   "cell_type": "markdown",
   "metadata": {},
   "source": [
    "## 1. Concept\n",
    "\n",
    "#### A. Podcast-like Playlists:\n",
    "- Categorical Tags (Genre, Era/Year, Label, Producers)\n",
    "- Qualitative Tags (Dancebility, BPM, Key, Vocal/Instrumental)\n",
    "\n",
    "#### B. Mixtape-like Playlists:  \n",
    "- Audio Features\n",
    "- Feature Similarity Measures   \n",
    "    - Harmony\n",
    "    - Rhythm\n",
    "    - Sound\n",
    "    - Instrumentation\n",
    "    - Mood/Sentiment\n",
    "    - Dynamic\n",
    "\n",
    "#### C. DJ-Mixes:\n",
    "- Start/Intro & End/Outro Features of Songs\n",
    "- Beat Matching Features\n",
    "- Song to Song Transition Features\n",
    "- Story Telling Features over whole Song Sequence    \n",
    "- Coherence Measures for Transitions & Sequences"
   ]
  },
  {
   "attachments": {},
   "cell_type": "markdown",
   "metadata": {},
   "source": [
    "## 2. Recommender Systems Overview: State of the Art Approaches\n",
    "\n",
    "#### A. Two General Approaches:\n",
    "\n",
    "- **Collaborative filtering:** Matrix Factorization, alternating least squares\n",
    "- **Content-based approaches:** Input is music information (basis of songs and/or \n",
    "    existing playlists) fetched through Music Information Retrieval (MIR) processes\n",
    "\n",
    "\n",
    "#### B. What are the Recommendations / the generated Playlists based on?\n",
    "\n",
    "- emotion / mood\n",
    "- genre\n",
    "- user taste\n",
    "- user similarity\n",
    "- popularity\n",
    "\n",
    "\n",
    "#### C. More recent Approaches / Deep Learning Approaches\n",
    "\n",
    "- Sequence-aware music recommendation:\n",
    "    - Next track recommendatons\n",
    "    - Automatic playlist continuation (APC)"
   ]
  },
  {
   "attachments": {},
   "cell_type": "markdown",
   "metadata": {},
   "source": [
    "## 3. Possible Datasets, Models & Feature Selection\n",
    "\n",
    "#### A. Datasets:\n",
    "\n",
    "[**Melon Music Dataset**](https://github.com/MTG/melon-music-dataset)  \n",
    "[last.fm Dataset](https://zenodo.org/record/6090214)  \n",
    "[MTG Barcelona Datasets & Software](https://www.upf.edu/web/mtg/software-datasets)  \n",
    "[Kaggle: Spotify Tracks Dataset](https://www.kaggle.com/datasets/maharshipandya/-spotify-tracks-dataset?datasetId=2570056&sortBy=voteCount)  \n",
    "[Kaggle: Spotify Playlists Dataset](https://www.kaggle.com/datasets/andrewmvd/spotify-playlists?datasetId=1720572&sortBy=voteCount)\n",
    "\n",
    "#### B. Python Audio Analysis (MIR) Packages: \n",
    "\n",
    "[**Essentia (ML Application ready)**](https://essentia.upf.edu/)  \n",
    "[Essentia citing papers](https://essentia.upf.edu/research_papers.html)  \n",
    "[**Librosa (lightweigth analysis)**](https://librosa.org/doc/main/feature.html)\n",
    "\n",
    "\n",
    "#### C. Youtube Tutorials:\n",
    "\n",
    "[Spotify Playlist Generation](https://www.youtube.com/watch?v=3vvvjdmBoyc&list=PL-wATfeyAMNrTEgZyfF66TwejA0MRX7x1&index=2)  \n",
    "[Librosa Music Analysis](https://www.youtube.com/watch?v=MhOdbtPhbLU)"
   ]
  },
  {
   "attachments": {},
   "cell_type": "markdown",
   "metadata": {},
   "source": [
    "## 4. Content-Based Recommendation\n",
    "\n",
    "**Reasoning:** *Cold-start problem for metadata-based recommendation systems using only user-generated metadata*  \n",
    "**Solution:** *Find underlying features of audio/music by MIR*  \n",
    "**High-level Features:** *genre, mood, instrument(s), vocals, gender of singing voice, lyrics, ...*  \n",
    "**Low-level Features:** *MFCC, ZCR, Spectral Coefficients, mixability*\n",
    "\n"
   ]
  },
  {
   "attachments": {},
   "cell_type": "markdown",
   "metadata": {},
   "source": [
    "## 5. Strategy\n",
    "\n",
    "    1. Obtain mixes data\n",
    "\n",
    "    2. Get songs for each mix  \n",
    "\n",
    "    3. Analyze song / sequence data for content-based Recommendation system  \n",
    "\n",
    "    4. Produce playlists  \n",
    "\n",
    "    5. Compare to baseline model  \n",
    "\n",
    "    (6. Produce dj-mix with transitions)"
   ]
  },
  {
   "attachments": {},
   "cell_type": "markdown",
   "metadata": {},
   "source": [
    "map mixes songs to spotify\n",
    "\n",
    "extract items featurers matrix for mixes"
   ]
  },
  {
   "attachments": {},
   "cell_type": "markdown",
   "metadata": {},
   "source": [
    "## CODE"
   ]
  },
  {
   "cell_type": "code",
   "execution_count": 112,
   "metadata": {},
   "outputs": [],
   "source": [
    "import os\n",
    "import numpy as np\n",
    "import pandas as pd\n",
    "\n",
    "import matplotlib\n",
    "import matplotlib.pylab as plt\n",
    "%matplotlib inline\n",
    "\n",
    "import spotipy\n",
    "from spotipy.oauth2 import SpotifyClientCredentials\n",
    "import time\n",
    "import math\n",
    "\n",
    "\n",
    "import librosa\n",
    "import librosa.display\n",
    "\n",
    "from IPython.display import Audio\n",
    "import ipywidgets as widgets"
   ]
  },
  {
   "attachments": {},
   "cell_type": "markdown",
   "metadata": {},
   "source": [
    "#### Librosa: MIR Library"
   ]
  },
  {
   "cell_type": "code",
   "execution_count": 113,
   "metadata": {},
   "outputs": [],
   "source": [
    "audio_folder = '../audio/'"
   ]
  },
  {
   "cell_type": "code",
   "execution_count": 114,
   "metadata": {},
   "outputs": [],
   "source": [
    "files = os.listdir(audio_folder)"
   ]
  },
  {
   "cell_type": "code",
   "execution_count": 116,
   "metadata": {},
   "outputs": [],
   "source": [
    "audio_files = list()\n",
    "for file in files:\n",
    "    if file.endswith('.mp3') or file.endswith('.wav'):\n",
    "        audio_files.append(file)"
   ]
  },
  {
   "cell_type": "code",
   "execution_count": 122,
   "metadata": {},
   "outputs": [
    {
     "name": "stderr",
     "output_type": "stream",
     "text": [
      "Warning: Xing stream size off by more than 1%, fuzzy seeking may be even more fuzzy than by design!\n",
      "[src/libmpg123/id3.c:process_comment():584] error: No comment text / valid description?\n"
     ]
    }
   ],
   "source": [
    "audio_files_loaded = dict()\n",
    "for audio_file in audio_files:\n",
    "    name = audio_file.split('.')[0]\n",
    "    y, sr = librosa.load(f'{audio_folder}{audio_file}')\n",
    "    audio_files_loaded[name] = [y, sr]"
   ]
  },
  {
   "cell_type": "code",
   "execution_count": 123,
   "metadata": {},
   "outputs": [
    {
     "data": {
      "text/plain": [
       "{\"Gary Newman - are 'friends' electric\": [array([ 0., -0.,  0., ..., -0.,  0., -0.], dtype=float32),\n",
       "  22050],\n",
       " 'Peaches- Fuck The Pain Away': [array([ 0., -0.,  0., ..., -0.,  0., -0.], dtype=float32),\n",
       "  22050],\n",
       " 'Die Goldenen Zitronen - Wenn ich ein Turnschuh wär': [array([ 1.3478850e-03,  2.3140463e-03,  2.5934768e-03, ...,\n",
       "         -6.2827181e-05, -1.8949751e-04, -4.2081982e-04], dtype=float32),\n",
       "  22050],\n",
       " 'Lui Mafuta - 1928': [array([ 1.3289474e-05,  3.4368720e-06, -4.8658635e-06, ...,\n",
       "          2.0529916e-07, -8.8673016e-07,  4.2070878e-06], dtype=float32),\n",
       "  22050],\n",
       " 'Charlotte Adigéry & Bolis Pupul - Paténipat': [array([-1.0906756e-03, -1.2390316e-03, -1.4695525e-04, ...,\n",
       "         -2.0798245e-07, -1.4607306e-07, -2.1995569e-07], dtype=float32),\n",
       "  22050],\n",
       " 'Charlotte Adigéry & Bolis Pupul - 1,618': [array([-3.8951635e-05, -2.4765730e-05, -2.4795532e-05, ...,\n",
       "          0.0000000e+00,  0.0000000e+00,  0.0000000e+00], dtype=float32),\n",
       "  22050],\n",
       " 'Madonna - Erotica': [array([ 0., -0.,  0., ..., -0.,  0., -0.], dtype=float32),\n",
       "  22050],\n",
       " 'DAF - Der Räuber und der Prinz 1981': [array([ 0., -0.,  0., ..., -0.,  0., -0.], dtype=float32),\n",
       "  22050],\n",
       " 'Depeche Mode - I feel you': [array([ 0., -0.,  0., ..., -0.,  0., -0.], dtype=float32),\n",
       "  22050],\n",
       " 'Marie Davidson - The Psychologist': [array([-3.3935066e-08, -3.6379788e-08, -1.6106060e-07, ...,\n",
       "          2.2667004e-06, -4.5895281e-06,  1.8261717e-06], dtype=float32),\n",
       "  22050],\n",
       " 'James Brown - The Boss': [array([ 0., -0.,  0., ..., -0.,  0., -0.], dtype=float32),\n",
       "  22050],\n",
       " 'Denzel Curry - The Game': [array([ 0.0000000e+00, -0.0000000e+00,  0.0000000e+00, ...,\n",
       "         -6.3101816e-21,  3.7646751e-21,  3.9782591e-22], dtype=float32),\n",
       "  22050],\n",
       " 'SAULT - Up All Night': [array([ 4.9240422e-05,  8.1895152e-05,  6.2162057e-05, ...,\n",
       "         -6.1326136e-07,  2.6773923e-06,  7.0646638e-07], dtype=float32),\n",
       "  22050],\n",
       " 'Golden Bug - Black Soul': [array([ 8.5810934e-06, -8.9353443e-07,  4.9782557e-07, ...,\n",
       "          1.2138204e-06,  1.3036973e-06, -1.0436861e-06], dtype=float32),\n",
       "  22050],\n",
       " 'Ezra - Garten meiner Fantasie': [array([ 5.4326028e-07, -2.0998973e-06,  4.5417951e-06, ...,\n",
       "          7.6917047e-07, -1.7157333e-08,  1.6891674e-05], dtype=float32),\n",
       "  22050],\n",
       " 'la marmota - Der Flug der Manukoden': [array([-1.15306666e-05, -8.63656351e-06, -1.46883085e-05, ...,\n",
       "         -2.22541712e-05, -1.65228466e-05, -1.10985511e-05], dtype=float32),\n",
       "  22050],\n",
       " 'Massimiliano Pagliara - Villaggio Paradiso (On Acid)': [array([1.3732952e-06, 2.1469496e-06, 2.0265124e-06, ..., 0.0000000e+00,\n",
       "         0.0000000e+00, 0.0000000e+00], dtype=float32),\n",
       "  22050],\n",
       " 'Marie Davidson - Work It': [array([-1.1920929e-07, -3.8743019e-07, -7.4505806e-07, ...,\n",
       "          7.8021009e-07, -7.1751145e-07, -1.3846673e-05], dtype=float32),\n",
       "  22050],\n",
       " 'Saweetie - Best Friend (feat': [array([ 0., -0.,  0., ...,  0., -0.,  0.], dtype=float32),\n",
       "  22050],\n",
       " 'Peaches - Keine Melodien': [array([ 1.1175871e-08,  2.6077032e-08, -7.4505806e-09, ...,\n",
       "         -0.0000000e+00,  0.0000000e+00, -0.0000000e+00], dtype=float32),\n",
       "  22050],\n",
       " 'Gater - Taboo': [array([-1.87504065e-06, -3.14581916e-06, -1.17412255e-05, ...,\n",
       "          2.04830940e-05, -4.43220506e-06,  5.07952427e-06], dtype=float32),\n",
       "  22050],\n",
       " 'Whitesquare - Visual Distortion of Reality': [array([ 2.8368354e-02,  2.0923819e-01,  4.3352985e-01, ...,\n",
       "         -1.1158898e-05,  1.3063151e-05, -2.5724676e-05], dtype=float32),\n",
       "  22050],\n",
       " 'jiony - To Be Good': [array([ 5.0827861e-05, -5.2750111e-05,  6.5907836e-05, ...,\n",
       "         -3.2495842e-05, -4.0591491e-05, -1.1786002e-05], dtype=float32),\n",
       "  22050],\n",
       " 'Billie Eilish - bad guy': [array([ 2.5551766e-02,  2.7684033e-02,  1.0013461e-02, ...,\n",
       "         -2.9765692e-07, -4.9820306e-07,  1.0047973e-07], dtype=float32),\n",
       "  22050]}"
      ]
     },
     "execution_count": 123,
     "metadata": {},
     "output_type": "execute_result"
    }
   ],
   "source": [
    "audio_files_loaded"
   ]
  },
  {
   "cell_type": "code",
   "execution_count": null,
   "metadata": {},
   "outputs": [],
   "source": [
    "# file = '../audio/Marie Davidson - Work It.mp3'\n",
    "# song_file = file.split('/')[-1]\n",
    "# song_file\n",
    "# song_name = song_file.split('.')[0]\n",
    "# song_name\n",
    "# song_ext = song_file.split('.')[1]\n",
    "# song_ext\n",
    "# y, sr = librosa.load(file)"
   ]
  },
  {
   "attachments": {},
   "cell_type": "markdown",
   "metadata": {},
   "source": [
    "#### The Mel-Spectogram"
   ]
  },
  {
   "cell_type": "code",
   "execution_count": null,
   "metadata": {},
   "outputs": [],
   "source": [
    "S = librosa.feature.melspectrogram(y=y, sr=sr, n_mels=128)"
   ]
  },
  {
   "cell_type": "code",
   "execution_count": null,
   "metadata": {},
   "outputs": [],
   "source": [
    "log_S = librosa.power_to_db(S, ref=np.max)"
   ]
  },
  {
   "cell_type": "code",
   "execution_count": null,
   "metadata": {},
   "outputs": [],
   "source": [
    "plt.figure(figsize=(16,4))\n",
    "librosa.display.specshow(log_S, sr=sr, x_axis='time', y_axis='mel')\n",
    "plt.title('mel power sprectrogram for: {}'.format(song_name))\n",
    "plt.colorbar(format='%+02.0f dB')\n",
    "plt.show()"
   ]
  },
  {
   "attachments": {},
   "cell_type": "markdown",
   "metadata": {},
   "source": [
    "#### The Chromagram"
   ]
  },
  {
   "cell_type": "code",
   "execution_count": null,
   "metadata": {},
   "outputs": [],
   "source": [
    "y_harmonic, y_percussive = librosa.effects.hpss(y)"
   ]
  },
  {
   "cell_type": "code",
   "execution_count": null,
   "metadata": {},
   "outputs": [],
   "source": [
    "C = librosa.feature.chroma_cqt(y=y_harmonic, sr=sr)"
   ]
  },
  {
   "cell_type": "code",
   "execution_count": null,
   "metadata": {},
   "outputs": [],
   "source": [
    "plt.figure(figsize=(16,4))\n",
    "librosa.display.specshow(C, sr=sr, x_axis='time', y_axis='chroma', vmin=0, vmax=1)\n",
    "plt.title('Chromagram for: {}'.format(song_name))\n",
    "plt.colorbar()\n",
    "plt.show()"
   ]
  },
  {
   "attachments": {},
   "cell_type": "markdown",
   "metadata": {},
   "source": [
    "#### mixesDb Extractions"
   ]
  },
  {
   "cell_type": "code",
   "execution_count": null,
   "metadata": {},
   "outputs": [],
   "source": []
  }
 ],
 "metadata": {
  "kernelspec": {
   "display_name": "base",
   "language": "python",
   "name": "python3"
  },
  "language_info": {
   "codemirror_mode": {
    "name": "ipython",
    "version": 3
   },
   "file_extension": ".py",
   "mimetype": "text/x-python",
   "name": "python",
   "nbconvert_exporter": "python",
   "pygments_lexer": "ipython3",
   "version": "3.10.9"
  },
  "orig_nbformat": 4
 },
 "nbformat": 4,
 "nbformat_minor": 2
}
