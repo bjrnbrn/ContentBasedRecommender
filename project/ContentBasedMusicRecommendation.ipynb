{
 "cells": [
  {
   "attachments": {},
   "cell_type": "markdown",
   "metadata": {},
   "source": [
    "# Automatic Playlist Generation:\n",
    "# A Content-Based Music Sequence Recommender System"
   ]
  },
  {
   "attachments": {},
   "cell_type": "markdown",
   "metadata": {},
   "source": [
    "## 1. Concept\n",
    "\n",
    "#### A. Podcast-like Playlists:\n",
    "- Categorical Tags (Genre, Era/Year, Label, Producers)\n",
    "- Qualitative Tags (Dancebility, BPM, Key, Vocal/Instrumental)\n",
    "\n",
    "#### B. Mixtape-like Playlists:  \n",
    "- Audio Features\n",
    "- Feature Similarity Measures   \n",
    "    - Harmony\n",
    "    - Rhythm\n",
    "    - Sound\n",
    "    - Instrumentation\n",
    "    - Mood/Sentiment\n",
    "    - Dynamic\n",
    "\n",
    "#### C. DJ-Mixes:\n",
    "- Start/Intro & End/Outro Features of Songs\n",
    "- Beat Matching Features\n",
    "- Song to Song Transition Features\n",
    "- Story Telling Features over whole Song Sequence    \n",
    "- Coherence Measures for Transitions & Sequences"
   ]
  },
  {
   "attachments": {},
   "cell_type": "markdown",
   "metadata": {},
   "source": [
    "## 2. Recommender Systems Overview: State of the Art Approaches\n",
    "\n",
    "#### A. Two General Approaches:\n",
    "\n",
    "- **Collaborative filtering:** Matrix Factorization, alternating least squares\n",
    "- **Content-based approaches:** Input is music information (basis of songs and/or \n",
    "    existing playlists) fetched through Music Information Retrieval (MIR) processes\n",
    "\n",
    "\n",
    " B. What are the Recommendations / the generated Playlists based on?\n",
    "\n",
    "- emotion / mood\n",
    "- genre\n",
    "- user taste\n",
    "- user similarity\n",
    "- popularity\n",
    "\n",
    "\n",
    " C. More recent Approaches / Deep Learning Approaches\n",
    "\n",
    "- Sequence-aware music recommendation:\n",
    "    - Next track recommendatons\n",
    "    - Automatic playlist continuation (APC)"
   ]
  },
  {
   "attachments": {},
   "cell_type": "markdown",
   "metadata": {},
   "source": [
    "## 3. Possible Datasets, Models & Feature Selection\n",
    "\n",
    "  A. Datasets:\n",
    "\n",
    "[**Melon Music Dataset**](https://github.com/MTG/melon-music-dataset)  \n",
    "[last.fm Dataset](https://zenodo.org/record/6090214)  \n",
    "[MTG Barcelona Datasets & Software](https://www.upf.edu/web/mtg/software-datasets)  \n",
    "[Kaggle: Spotify Tracks Dataset](https://www.kaggle.com/datasets/maharshipandya/-spotify-tracks-dataset?datasetId=2570056&sortBy=voteCount)  \n",
    "[Kaggle: Spotify Playlists Dataset](https://www.kaggle.com/datasets/andrewmvd/spotify-playlists?datasetId=1720572&sortBy=voteCount)\n",
    "\n",
    "  B. Python Audio Analysis (MIR) Packages: \n",
    "\n",
    "[**Essentia (ML Application ready)**](https://essentia.upf.edu/)  \n",
    "[Essentia citing papers](https://essentia.upf.edu/research_papers.html)  \n",
    "[**Librosa (lightweigth analysis)**](https://librosa.org/doc/main/feature.html)\n",
    "\n",
    "\n",
    "  C. Youtube Tutorials:\n",
    "\n",
    "[Spotify Playlist Generation](https://www.youtube.com/watch?v=3vvvjdmBoyc&list=PL-wATfeyAMNrTEgZyfF66TwejA0MRX7x1&index=2)  \n",
    "[Librosa Music Analysis](https://www.youtube.com/watch?v=MhOdbtPhbLU)"
   ]
  },
  {
   "attachments": {},
   "cell_type": "markdown",
   "metadata": {},
   "source": [
    "## 4. Content-Based Recommendation\n",
    "\n",
    "**Reasoning:** *Cold-start problem for metadata-based recommendation systems using only user-generated metadata*  \n",
    "**Solution:** *Find underlying features of audio/music by MIR*  \n",
    "**High-level Features:** *genre, mood, instrument(s), vocals, gender of singing voice, lyrics, ...*  \n",
    "**Low-level Features:** *MFCC, ZCR, Spectral Coefficients, mixability*\n",
    "\n"
   ]
  },
  {
   "attachments": {},
   "cell_type": "markdown",
   "metadata": {},
   "source": [
    "## 5. Strategy\n",
    "\n",
    "    1. Obtain mixes data\n",
    "\n",
    "    2. Get songs for each mix  \n",
    "\n",
    "    3. Analyze song / sequence data for content-based Recommendation system  \n",
    "\n",
    "    4. Produce playlists  \n",
    "\n",
    "    5. Compare to baseline model  \n",
    "\n",
    "    (6. Produce dj-mix with transitions)"
   ]
  },
  {
   "attachments": {},
   "cell_type": "markdown",
   "metadata": {},
   "source": [
    "map mixes songs to spotify\n",
    "\n",
    "extract items featurers matrix for mixes"
   ]
  },
  {
   "attachments": {},
   "cell_type": "markdown",
   "metadata": {},
   "source": [
    "## CODE"
   ]
  },
  {
   "cell_type": "code",
   "execution_count": 36,
   "metadata": {},
   "outputs": [],
   "source": [
    "import os\n",
    "import numpy as np\n",
    "import pandas as pd\n",
    "\n",
    "import matplotlib\n",
    "import matplotlib.pylab as plt\n",
    "%matplotlib inline\n",
    "\n",
    "import librosa\n",
    "import librosa.display\n",
    "\n",
    "from IPython.display import Audio\n",
    "import ipywidgets as widgets"
   ]
  },
  {
   "attachments": {},
   "cell_type": "markdown",
   "metadata": {},
   "source": [
    "  Librosa: MIR Library"
   ]
  },
  {
   "attachments": {},
   "cell_type": "markdown",
   "metadata": {},
   "source": [
    "  The Chromagram"
   ]
  },
  {
   "cell_type": "code",
   "execution_count": 37,
   "metadata": {},
   "outputs": [],
   "source": [
    "# y_harmonic, y_percussive = librosa.effects.hpss(y)"
   ]
  },
  {
   "cell_type": "code",
   "execution_count": 38,
   "metadata": {},
   "outputs": [],
   "source": [
    "# C = librosa.feature.chroma_cqt(y=y_harmonic, sr=sr)"
   ]
  },
  {
   "cell_type": "code",
   "execution_count": 39,
   "metadata": {},
   "outputs": [],
   "source": [
    "# plt.figure(figsize=(16,4))\n",
    "# librosa.display.specshow(C, sr=sr, x_axis='time', y_axis='chroma', vmin=0, vmax=1)\n",
    "# plt.title('Chromagram for: {}'.format(song_name))\n",
    "# plt.colorbar()\n",
    "# plt.show()"
   ]
  },
  {
   "attachments": {},
   "cell_type": "markdown",
   "metadata": {},
   "source": [
    "#### mixesDb Extractions"
   ]
  },
  {
   "cell_type": "code",
   "execution_count": 40,
   "metadata": {},
   "outputs": [],
   "source": [
    "from eda import Mixes, Tracks"
   ]
  },
  {
   "cell_type": "code",
   "execution_count": 41,
   "metadata": {},
   "outputs": [],
   "source": [
    "mixes = Mixes('../data/djmix-dataset.json', min_files=5, max_files=20)"
   ]
  },
  {
   "cell_type": "code",
   "execution_count": 42,
   "metadata": {},
   "outputs": [
    {
     "data": {
      "text/html": [
       "<div>\n",
       "<style scoped>\n",
       "    .dataframe tbody tr th:only-of-type {\n",
       "        vertical-align: middle;\n",
       "    }\n",
       "\n",
       "    .dataframe tbody tr th {\n",
       "        vertical-align: top;\n",
       "    }\n",
       "\n",
       "    .dataframe thead th {\n",
       "        text-align: right;\n",
       "    }\n",
       "</style>\n",
       "<table border=\"1\" class=\"dataframe\">\n",
       "  <thead>\n",
       "    <tr style=\"text-align: right;\">\n",
       "      <th></th>\n",
       "      <th>mix_id</th>\n",
       "      <th>tracks_identified</th>\n",
       "      <th>tracks_total</th>\n",
       "      <th>tracklist</th>\n",
       "      <th>genre</th>\n",
       "      <th>year</th>\n",
       "      <th>available_files</th>\n",
       "      <th>files_count</th>\n",
       "    </tr>\n",
       "  </thead>\n",
       "  <tbody>\n",
       "    <tr>\n",
       "      <th>0</th>\n",
       "      <td>mix0018</td>\n",
       "      <td>13</td>\n",
       "      <td>14</td>\n",
       "      <td>[7ZOqI15csjw, None, n4xiIDK8SoI, 4o4joooH5tg, ...</td>\n",
       "      <td>Techno</td>\n",
       "      <td>1995</td>\n",
       "      <td>[7ZOqI15csjw, n4xiIDK8SoI, 4o4joooH5tg, VKLZ4g...</td>\n",
       "      <td>13</td>\n",
       "    </tr>\n",
       "    <tr>\n",
       "      <th>1</th>\n",
       "      <td>mix0066</td>\n",
       "      <td>10</td>\n",
       "      <td>13</td>\n",
       "      <td>[None, qycAC_6Bbto, _QFaJ10-IfA, mSCtgcTBJpw, ...</td>\n",
       "      <td>Progressive</td>\n",
       "      <td>2000</td>\n",
       "      <td>[qycAC_6Bbto, _QFaJ10-IfA, mSCtgcTBJpw, Y_Gx61...</td>\n",
       "      <td>9</td>\n",
       "    </tr>\n",
       "    <tr>\n",
       "      <th>2</th>\n",
       "      <td>mix0126</td>\n",
       "      <td>14</td>\n",
       "      <td>14</td>\n",
       "      <td>[Nz2SHyePD2o, tcwjlNMPxMM, RV8jSPQtOsU, AdM6Kn...</td>\n",
       "      <td>Progressive</td>\n",
       "      <td>2002</td>\n",
       "      <td>[Nz2SHyePD2o, tcwjlNMPxMM, RV8jSPQtOsU, AdM6Kn...</td>\n",
       "      <td>14</td>\n",
       "    </tr>\n",
       "    <tr>\n",
       "      <th>3</th>\n",
       "      <td>mix0136</td>\n",
       "      <td>19</td>\n",
       "      <td>20</td>\n",
       "      <td>[NZWw0wD3Bwk, oBXfAPtGJkg, gINgF2YbAzo, zxxx-U...</td>\n",
       "      <td>Trance</td>\n",
       "      <td>2002</td>\n",
       "      <td>[NZWw0wD3Bwk, vq4kUjqBh10, tBnf98KdpWM, tcwjlN...</td>\n",
       "      <td>5</td>\n",
       "    </tr>\n",
       "    <tr>\n",
       "      <th>4</th>\n",
       "      <td>mix0141</td>\n",
       "      <td>17</td>\n",
       "      <td>18</td>\n",
       "      <td>[J-IMugmfpU0, 5jxRNG4WqgM, jzZsomI_tUU, G5RCTu...</td>\n",
       "      <td>Progressive Trance</td>\n",
       "      <td>2003</td>\n",
       "      <td>[J-IMugmfpU0, 5jxRNG4WqgM, jzZsomI_tUU, G5RCTu...</td>\n",
       "      <td>17</td>\n",
       "    </tr>\n",
       "    <tr>\n",
       "      <th>...</th>\n",
       "      <td>...</td>\n",
       "      <td>...</td>\n",
       "      <td>...</td>\n",
       "      <td>...</td>\n",
       "      <td>...</td>\n",
       "      <td>...</td>\n",
       "      <td>...</td>\n",
       "      <td>...</td>\n",
       "    </tr>\n",
       "    <tr>\n",
       "      <th>273</th>\n",
       "      <td>mix4449</td>\n",
       "      <td>10</td>\n",
       "      <td>13</td>\n",
       "      <td>[FwvHof6QbVM, 0U5yzv3o6ug, 0gEC_jJ9a9g, None, ...</td>\n",
       "      <td>Various</td>\n",
       "      <td>2019</td>\n",
       "      <td>[FwvHof6QbVM, 0U5yzv3o6ug, 0gEC_jJ9a9g, 8dgEKH...</td>\n",
       "      <td>8</td>\n",
       "    </tr>\n",
       "    <tr>\n",
       "      <th>274</th>\n",
       "      <td>mix4646</td>\n",
       "      <td>10</td>\n",
       "      <td>11</td>\n",
       "      <td>[EPC1u4vQ6Kk, None, InE1GUFz_fA, HrYWeIdEyVE, ...</td>\n",
       "      <td>Various</td>\n",
       "      <td>2019</td>\n",
       "      <td>[EPC1u4vQ6Kk, InE1GUFz_fA, HrYWeIdEyVE, zvFVOv...</td>\n",
       "      <td>10</td>\n",
       "    </tr>\n",
       "    <tr>\n",
       "      <th>275</th>\n",
       "      <td>mix4699</td>\n",
       "      <td>10</td>\n",
       "      <td>12</td>\n",
       "      <td>[VDoIfDghpyk, kU65WDeoMps, hOulfSfBhPc, vMZz7X...</td>\n",
       "      <td>Jungle</td>\n",
       "      <td>2019</td>\n",
       "      <td>[VDoIfDghpyk, kU65WDeoMps, hOulfSfBhPc, vMZz7X...</td>\n",
       "      <td>10</td>\n",
       "    </tr>\n",
       "    <tr>\n",
       "      <th>276</th>\n",
       "      <td>mix4702</td>\n",
       "      <td>15</td>\n",
       "      <td>19</td>\n",
       "      <td>[glAEPjCTr_I, HfdpXQ6cSyw, bJSAqj_aEes, None, ...</td>\n",
       "      <td>Tech House</td>\n",
       "      <td>2019</td>\n",
       "      <td>[glAEPjCTr_I, HfdpXQ6cSyw, 0jfovV5K0fk, TLsxXP...</td>\n",
       "      <td>10</td>\n",
       "    </tr>\n",
       "    <tr>\n",
       "      <th>277</th>\n",
       "      <td>mix4958</td>\n",
       "      <td>19</td>\n",
       "      <td>21</td>\n",
       "      <td>[uNYS-FibMn8, _5E3ggezzww, aO4Hz5i-3dQ, 7ythk6...</td>\n",
       "      <td>Ghetto</td>\n",
       "      <td>2020</td>\n",
       "      <td>[uNYS-FibMn8, _5E3ggezzww, 7ythk60VILM, u005Fx...</td>\n",
       "      <td>18</td>\n",
       "    </tr>\n",
       "  </tbody>\n",
       "</table>\n",
       "<p>278 rows × 8 columns</p>\n",
       "</div>"
      ],
      "text/plain": [
       "      mix_id  tracks_identified  tracks_total  \\\n",
       "0    mix0018                 13            14   \n",
       "1    mix0066                 10            13   \n",
       "2    mix0126                 14            14   \n",
       "3    mix0136                 19            20   \n",
       "4    mix0141                 17            18   \n",
       "..       ...                ...           ...   \n",
       "273  mix4449                 10            13   \n",
       "274  mix4646                 10            11   \n",
       "275  mix4699                 10            12   \n",
       "276  mix4702                 15            19   \n",
       "277  mix4958                 19            21   \n",
       "\n",
       "                                             tracklist               genre  \\\n",
       "0    [7ZOqI15csjw, None, n4xiIDK8SoI, 4o4joooH5tg, ...              Techno   \n",
       "1    [None, qycAC_6Bbto, _QFaJ10-IfA, mSCtgcTBJpw, ...         Progressive   \n",
       "2    [Nz2SHyePD2o, tcwjlNMPxMM, RV8jSPQtOsU, AdM6Kn...         Progressive   \n",
       "3    [NZWw0wD3Bwk, oBXfAPtGJkg, gINgF2YbAzo, zxxx-U...              Trance   \n",
       "4    [J-IMugmfpU0, 5jxRNG4WqgM, jzZsomI_tUU, G5RCTu...  Progressive Trance   \n",
       "..                                                 ...                 ...   \n",
       "273  [FwvHof6QbVM, 0U5yzv3o6ug, 0gEC_jJ9a9g, None, ...             Various   \n",
       "274  [EPC1u4vQ6Kk, None, InE1GUFz_fA, HrYWeIdEyVE, ...             Various   \n",
       "275  [VDoIfDghpyk, kU65WDeoMps, hOulfSfBhPc, vMZz7X...              Jungle   \n",
       "276  [glAEPjCTr_I, HfdpXQ6cSyw, bJSAqj_aEes, None, ...          Tech House   \n",
       "277  [uNYS-FibMn8, _5E3ggezzww, aO4Hz5i-3dQ, 7ythk6...              Ghetto   \n",
       "\n",
       "     year                                    available_files  files_count  \n",
       "0    1995  [7ZOqI15csjw, n4xiIDK8SoI, 4o4joooH5tg, VKLZ4g...           13  \n",
       "1    2000  [qycAC_6Bbto, _QFaJ10-IfA, mSCtgcTBJpw, Y_Gx61...            9  \n",
       "2    2002  [Nz2SHyePD2o, tcwjlNMPxMM, RV8jSPQtOsU, AdM6Kn...           14  \n",
       "3    2002  [NZWw0wD3Bwk, vq4kUjqBh10, tBnf98KdpWM, tcwjlN...            5  \n",
       "4    2003  [J-IMugmfpU0, 5jxRNG4WqgM, jzZsomI_tUU, G5RCTu...           17  \n",
       "..    ...                                                ...          ...  \n",
       "273  2019  [FwvHof6QbVM, 0U5yzv3o6ug, 0gEC_jJ9a9g, 8dgEKH...            8  \n",
       "274  2019  [EPC1u4vQ6Kk, InE1GUFz_fA, HrYWeIdEyVE, zvFVOv...           10  \n",
       "275  2019  [VDoIfDghpyk, kU65WDeoMps, hOulfSfBhPc, vMZz7X...           10  \n",
       "276  2019  [glAEPjCTr_I, HfdpXQ6cSyw, 0jfovV5K0fk, TLsxXP...           10  \n",
       "277  2020  [uNYS-FibMn8, _5E3ggezzww, 7ythk60VILM, u005Fx...           18  \n",
       "\n",
       "[278 rows x 8 columns]"
      ]
     },
     "execution_count": 42,
     "metadata": {},
     "output_type": "execute_result"
    }
   ],
   "source": [
    "mixes"
   ]
  },
  {
   "cell_type": "code",
   "execution_count": 43,
   "metadata": {},
   "outputs": [
    {
     "data": {
      "text/plain": [
       "genre\n",
       "Acid                   2\n",
       "Chill Out              1\n",
       "Deep House            25\n",
       "Deep Tech House        7\n",
       "Detroit Techno         1\n",
       "Disco                  5\n",
       "Drum & Bass           15\n",
       "Dub                    1\n",
       "Dubstep                2\n",
       "Electro                3\n",
       "Ghetto                 1\n",
       "Hard Techno            1\n",
       "House                 49\n",
       "House (Old School)     3\n",
       "IDM                    2\n",
       "Jungle                 1\n",
       "Minimal                4\n",
       "Pop                    1\n",
       "Progressive            6\n",
       "Progressive House     26\n",
       "Progressive Trance     4\n",
       "Psytrance              1\n",
       "Rare Groove            1\n",
       "Soul                   1\n",
       "Tech House            59\n",
       "Techno                45\n",
       "Trance                 5\n",
       "Various                6\n",
       "Name: mix_id, dtype: int64"
      ]
     },
     "execution_count": 43,
     "metadata": {},
     "output_type": "execute_result"
    }
   ],
   "source": [
    "mixes.groupby('genre').mix_id.count()"
   ]
  },
  {
   "attachments": {},
   "cell_type": "markdown",
   "metadata": {},
   "source": [
    "## QUESTIONS:\n",
    "        can I use this data to categorize other songs?\n",
    "        This genre-list is pretty long, maybe it might be \n",
    "        usefull for genre classification beforehand.\n",
    "#### MAKE TRACKS DB WITH GENRES\n",
    "        label all tracks with mix_ids, genres, what else?\n",
    "#### USER-ITEM-LIKE MATRIX FOR MIXES AND TRACKS"
   ]
  },
  {
   "cell_type": "code",
   "execution_count": null,
   "metadata": {},
   "outputs": [],
   "source": []
  },
  {
   "attachments": {},
   "cell_type": "markdown",
   "metadata": {},
   "source": [
    "## Librosa Library: Features\n",
    "\n",
    "**Spectral Features:**\n",
    "\n",
    "1. `chroma_stft`: Computes the chromagram (pitch class profile) from a waveform or power spectrogram. Useful for music genre classification and chord recognition.\n",
    "\n",
    "2. `chroma_cqt`: Computes the constant-Q chromagram, which is a chromagram variant based on the constant-Q transform. It is useful for analyzing musical audio.\n",
    "\n",
    "3. `chroma_cens`: Computes the chroma variant called \"Chroma Energy Normalized\" (CENS). It provides a more robust representation of tonal content and is useful for tasks like cover song identification.\n",
    "\n",
    "4. `chroma_vqt`: Computes the variable-Q chromagram, which is a chromagram variant based on the variable-Q transform. It is useful for analyzing musical audio.\n",
    "\n",
    "5. `melspectrogram`: Computes a mel-scaled spectrogram, which represents the power spectrum of a signal in mel-frequency bins. It is commonly used in speech and music analysis.\n",
    "\n",
    "6. `mfcc`: Computes Mel-frequency cepstral coefficients (MFCCs), which are a compact representation of the spectral envelope of a signal. They are widely used in speech and audio processing tasks such as speech recognition and speaker identification.\n",
    "\n",
    "7. `rms`: Computes the root-mean-square (RMS) value for each frame in an audio signal. It provides a measure of the overall energy level of the signal.\n",
    "\n",
    "8. `spectral_centroid`: Computes the spectral centroid, which represents the center of mass of the spectrum. It provides information about the \"brightness\" of a sound and is useful for tasks like instrument recognition.\n",
    "\n",
    "9. `spectral_bandwidth`: Computes the spectral bandwidth, which measures the spread of the spectrum around the spectral centroid. It provides information about the \"width\" of a sound and is useful for tasks like timbre characterization.\n",
    "\n",
    "10. `spectral_contrast`: Computes spectral contrast, which measures the difference in amplitude between peaks and valleys in the spectrum. It is useful for tasks like music genre classification and instrument recognition.\n",
    "\n",
    "11. `spectral_flatness`: Computes the spectral flatness, which quantifies the \"tonality\" of a sound by measuring the ratio of the geometric mean to the arithmetic mean of the spectrum.\n",
    "\n",
    "12. `spectral_rolloff`: Computes the roll-off frequency, which is the frequency below which a specified percentage of the total spectral energy lies. It provides information about the shape and brightness of the spectrum.\n",
    "\n",
    "13. `poly_features`: Computes the coefficients of fitting an nth-order polynomial to the columns of a spectrogram. It can be used for tasks like pitch estimation and separation of harmonic and percussive components.\n",
    "\n",
    "14. `tonnetz`: Computes the tonal centroid features (tonnetz), which represent the harmonic relationships between musical notes. It is useful for tasks like chord recognition and key estimation.\n",
    "\n",
    "15. `zero_crossing_rate`: Computes the zero-crossing rate, which measures the rate at which a signal changes sign. It is often used as a simple feature for tasks like speech and music onset detection.\n",
    "\n",
    "\n",
    "**Rhythm Features:**\n",
    "\n",
    "16. `tempo`: Estimates the tempo (beats per minute) of an audio signal. It is useful for tasks like music classification and tempo-based audio processing.\n",
    "\n",
    "17. `tempogram`: Computes the tempogram, which is a local autocorrelation of the onset strength envelope. It provides a visualization of rhythmic patterns in the audio signal.\n",
    "\n",
    "18. `fourier_tempogram`: Computes the Fourier tempogram, which is the short-time Fourier transform of the onset strength envelope. It provides a spectrogram-like representation of rhythmic patterns in the audio signal.\n",
    "\n",
    "19. `tempogram_ratio`: Computes temp"
   ]
  },
  {
   "attachments": {},
   "cell_type": "markdown",
   "metadata": {},
   "source": [
    "## Brain Storming\n",
    "    Song Feature Dataframe\n",
    "    Mix Feature Matrix\n",
    "    Model Selection\n",
    "    INPUT OUTPUT: 2-3 Songs -> recoomend existing mix\n",
    "    HAT ARE FEATURES THAT MAKE A SONG FIT INTO A PLAYLIST? -> TRACK SILMILIARITY FEATURES\n",
    "    WHAT ARE FEATURES THAT ORDER A PLAYLIST TO A SEQUENCE? -> MIX SEQUENCE FEATURES, TRANSITION MATRIX?"
   ]
  },
  {
   "attachments": {},
   "cell_type": "markdown",
   "metadata": {},
   "source": [
    "## REVERSE ENGINEERING OF MIX FEATURES: TIMESERIES TRENDS\n",
    "    HOW DO THE FEATURES EVOLVE OVER A SET?\n",
    "    HOW DO I WANT THE FEATURES TO EVOLVE OVER A SET?"
   ]
  },
  {
   "attachments": {},
   "cell_type": "markdown",
   "metadata": {},
   "source": [
    "#### BASELINE MODEL: BPM FILTER & RANDOM SAMPLING"
   ]
  },
  {
   "cell_type": "code",
   "execution_count": 44,
   "metadata": {},
   "outputs": [],
   "source": [
    "init_file = '../audio/Ezra - Garten meiner Fantasie.wav'"
   ]
  },
  {
   "cell_type": "code",
   "execution_count": 45,
   "metadata": {},
   "outputs": [],
   "source": [
    "init_file_name = init_file.split('/')[-1]"
   ]
  },
  {
   "cell_type": "code",
   "execution_count": 46,
   "metadata": {},
   "outputs": [
    {
     "data": {
      "text/plain": [
       "'Ezra - Garten meiner Fantasie.wav'"
      ]
     },
     "execution_count": 46,
     "metadata": {},
     "output_type": "execute_result"
    }
   ],
   "source": [
    "init_file_name"
   ]
  },
  {
   "cell_type": "code",
   "execution_count": 47,
   "metadata": {},
   "outputs": [
    {
     "name": "stdout",
     "output_type": "stream",
     "text": [
      "Estimated Starting BPM: 107.666015625\n"
     ]
    }
   ],
   "source": [
    "y, sr = librosa.load(init_file)\n",
    "\n",
    "# Estimate BPM\n",
    "init_tempo, _ = librosa.beat.beat_track(y=y, sr=sr)\n",
    "\n",
    "print(\"Estimated Starting BPM:\", init_tempo)"
   ]
  },
  {
   "cell_type": "code",
   "execution_count": 48,
   "metadata": {},
   "outputs": [
    {
     "data": {
      "text/plain": [
       "96.8994140625"
      ]
     },
     "execution_count": 48,
     "metadata": {},
     "output_type": "execute_result"
    }
   ],
   "source": [
    "min_tempo = init_tempo * 0.9\n",
    "min_tempo"
   ]
  },
  {
   "cell_type": "code",
   "execution_count": 49,
   "metadata": {},
   "outputs": [
    {
     "data": {
      "text/plain": [
       "116.5484619140625"
      ]
     },
     "execution_count": 49,
     "metadata": {},
     "output_type": "execute_result"
    }
   ],
   "source": [
    "max_tempo = init_tempo * 1.0825\n",
    "max_tempo"
   ]
  },
  {
   "cell_type": "code",
   "execution_count": 50,
   "metadata": {},
   "outputs": [],
   "source": [
    "files_folder = '../audio/'"
   ]
  },
  {
   "cell_type": "code",
   "execution_count": 51,
   "metadata": {},
   "outputs": [],
   "source": [
    "import os\n",
    "import librosa\n",
    "import pandas as pd"
   ]
  },
  {
   "cell_type": "code",
   "execution_count": 52,
   "metadata": {},
   "outputs": [
    {
     "name": "stderr",
     "output_type": "stream",
     "text": [
      "/var/folders/sn/zz32wyd938j2bblqhcs5jn180000gn/T/ipykernel_5682/3243987995.py:4: UserWarning: PySoundFile failed. Trying audioread instead.\n",
      "  y, sr = librosa.load(''.join([files_folder,file]))\n",
      "/Users/bjornbraun/anaconda3/lib/python3.10/site-packages/librosa/core/audio.py:184: FutureWarning: librosa.core.audio.__audioread_load\n",
      "\tDeprecated as of librosa version 0.10.0.\n",
      "\tIt will be removed in librosa version 1.0.\n",
      "  y, sr_native = __audioread_load(path, offset, duration, dtype)\n",
      "/var/folders/sn/zz32wyd938j2bblqhcs5jn180000gn/T/ipykernel_5682/3243987995.py:4: UserWarning: PySoundFile failed. Trying audioread instead.\n",
      "  y, sr = librosa.load(''.join([files_folder,file]))\n",
      "/Users/bjornbraun/anaconda3/lib/python3.10/site-packages/librosa/core/audio.py:184: FutureWarning: librosa.core.audio.__audioread_load\n",
      "\tDeprecated as of librosa version 0.10.0.\n",
      "\tIt will be removed in librosa version 1.0.\n",
      "  y, sr_native = __audioread_load(path, offset, duration, dtype)\n",
      "Note: Illegal Audio-MPEG-Header 0xddb88486 at offset 5638587.\n",
      "Note: Trying to resync...\n",
      "Note: Skipped 344 bytes in input.\n",
      "Warning: Xing stream size off by more than 1%, fuzzy seeking may be even more fuzzy than by design!\n",
      "[src/libmpg123/id3.c:process_comment():584] error: No comment text / valid description?\n"
     ]
    }
   ],
   "source": [
    "synchable_files = []\n",
    "for file in os.listdir(files_folder):\n",
    "    try:\n",
    "        y, sr = librosa.load(''.join([files_folder,file]))\n",
    "        tempo, _ = librosa.beat.beat_track(y=y, sr=sr)\n",
    "        synchable_files.append([file, tempo])\n",
    "    except:\n",
    "        continue"
   ]
  },
  {
   "cell_type": "code",
   "execution_count": 53,
   "metadata": {},
   "outputs": [],
   "source": [
    "possible_files = pd.DataFrame(synchable_files)"
   ]
  },
  {
   "cell_type": "code",
   "execution_count": 54,
   "metadata": {},
   "outputs": [],
   "source": [
    "possible_files.columns=['file', 'bpm']"
   ]
  },
  {
   "cell_type": "code",
   "execution_count": 55,
   "metadata": {},
   "outputs": [],
   "source": [
    "files_sorted = possible_files.sort_values(by='bpm')"
   ]
  },
  {
   "cell_type": "code",
   "execution_count": 56,
   "metadata": {},
   "outputs": [
    {
     "data": {
      "text/html": [
       "<div>\n",
       "<style scoped>\n",
       "    .dataframe tbody tr th:only-of-type {\n",
       "        vertical-align: middle;\n",
       "    }\n",
       "\n",
       "    .dataframe tbody tr th {\n",
       "        vertical-align: top;\n",
       "    }\n",
       "\n",
       "    .dataframe thead th {\n",
       "        text-align: right;\n",
       "    }\n",
       "</style>\n",
       "<table border=\"1\" class=\"dataframe\">\n",
       "  <thead>\n",
       "    <tr style=\"text-align: right;\">\n",
       "      <th></th>\n",
       "      <th>file</th>\n",
       "      <th>bpm</th>\n",
       "    </tr>\n",
       "  </thead>\n",
       "  <tbody>\n",
       "    <tr>\n",
       "      <th>46</th>\n",
       "      <td>Black Milk - Detroit's New Dance Show.mp3</td>\n",
       "      <td>69.837416</td>\n",
       "    </tr>\n",
       "    <tr>\n",
       "      <th>51</th>\n",
       "      <td>Neroche - Take This Book And Burn It.wav</td>\n",
       "      <td>73.828125</td>\n",
       "    </tr>\n",
       "    <tr>\n",
       "      <th>40</th>\n",
       "      <td>Stereo Total - Wir tanzen im 4-Eck.mp3</td>\n",
       "      <td>78.302557</td>\n",
       "    </tr>\n",
       "    <tr>\n",
       "      <th>7</th>\n",
       "      <td>Stereo Total - Musique automatique.mp3</td>\n",
       "      <td>78.302557</td>\n",
       "    </tr>\n",
       "    <tr>\n",
       "      <th>49</th>\n",
       "      <td>DAF - Der Mussolini.mp3</td>\n",
       "      <td>78.302557</td>\n",
       "    </tr>\n",
       "    <tr>\n",
       "      <th>...</th>\n",
       "      <td>...</td>\n",
       "      <td>...</td>\n",
       "    </tr>\n",
       "    <tr>\n",
       "      <th>57</th>\n",
       "      <td>The Velvet Underground-  Venus in Furs.flac</td>\n",
       "      <td>143.554688</td>\n",
       "    </tr>\n",
       "    <tr>\n",
       "      <th>53</th>\n",
       "      <td>AXEL F (Knight Horse Remix).mp3</td>\n",
       "      <td>151.999081</td>\n",
       "    </tr>\n",
       "    <tr>\n",
       "      <th>52</th>\n",
       "      <td>DAENGER - Kapitalismus stinkt (DAENGER Repair)...</td>\n",
       "      <td>172.265625</td>\n",
       "    </tr>\n",
       "    <tr>\n",
       "      <th>70</th>\n",
       "      <td>Saweetie - Best Friend (feat. Doja Cat).mp3</td>\n",
       "      <td>184.570312</td>\n",
       "    </tr>\n",
       "    <tr>\n",
       "      <th>18</th>\n",
       "      <td>John Frusciante - Untitled 4 mix 4.wav</td>\n",
       "      <td>184.570312</td>\n",
       "    </tr>\n",
       "  </tbody>\n",
       "</table>\n",
       "<p>85 rows × 2 columns</p>\n",
       "</div>"
      ],
      "text/plain": [
       "                                                 file         bpm\n",
       "46          Black Milk - Detroit's New Dance Show.mp3   69.837416\n",
       "51           Neroche - Take This Book And Burn It.wav   73.828125\n",
       "40             Stereo Total - Wir tanzen im 4-Eck.mp3   78.302557\n",
       "7              Stereo Total - Musique automatique.mp3   78.302557\n",
       "49                            DAF - Der Mussolini.mp3   78.302557\n",
       "..                                                ...         ...\n",
       "57        The Velvet Underground-  Venus in Furs.flac  143.554688\n",
       "53                    AXEL F (Knight Horse Remix).mp3  151.999081\n",
       "52  DAENGER - Kapitalismus stinkt (DAENGER Repair)...  172.265625\n",
       "70        Saweetie - Best Friend (feat. Doja Cat).mp3  184.570312\n",
       "18             John Frusciante - Untitled 4 mix 4.wav  184.570312\n",
       "\n",
       "[85 rows x 2 columns]"
      ]
     },
     "execution_count": 56,
     "metadata": {},
     "output_type": "execute_result"
    }
   ],
   "source": [
    "files_sorted"
   ]
  },
  {
   "cell_type": "code",
   "execution_count": 57,
   "metadata": {},
   "outputs": [],
   "source": [
    "filtered_files = files_sorted[(files_sorted['bpm'] >= min_tempo) & (files_sorted['bpm'] <= max_tempo)]"
   ]
  },
  {
   "cell_type": "code",
   "execution_count": 58,
   "metadata": {},
   "outputs": [
    {
     "data": {
      "text/html": [
       "<div>\n",
       "<style scoped>\n",
       "    .dataframe tbody tr th:only-of-type {\n",
       "        vertical-align: middle;\n",
       "    }\n",
       "\n",
       "    .dataframe tbody tr th {\n",
       "        vertical-align: top;\n",
       "    }\n",
       "\n",
       "    .dataframe thead th {\n",
       "        text-align: right;\n",
       "    }\n",
       "</style>\n",
       "<table border=\"1\" class=\"dataframe\">\n",
       "  <thead>\n",
       "    <tr style=\"text-align: right;\">\n",
       "      <th></th>\n",
       "      <th>file</th>\n",
       "      <th>bpm</th>\n",
       "    </tr>\n",
       "  </thead>\n",
       "  <tbody>\n",
       "    <tr>\n",
       "      <th>65</th>\n",
       "      <td>Vince Staples - Norf Norf.m4a</td>\n",
       "      <td>99.384014</td>\n",
       "    </tr>\n",
       "    <tr>\n",
       "      <th>34</th>\n",
       "      <td>Tom Waits - Tango Till They're Sore.mp3</td>\n",
       "      <td>99.384014</td>\n",
       "    </tr>\n",
       "    <tr>\n",
       "      <th>71</th>\n",
       "      <td>Twerking Class Heroes - Baile en patines.wav</td>\n",
       "      <td>99.384014</td>\n",
       "    </tr>\n",
       "    <tr>\n",
       "      <th>61</th>\n",
       "      <td>Donovan - Season Of The Witch.mp3</td>\n",
       "      <td>99.384014</td>\n",
       "    </tr>\n",
       "    <tr>\n",
       "      <th>13</th>\n",
       "      <td>Madonna - La Isla Bonita.mp3</td>\n",
       "      <td>99.384014</td>\n",
       "    </tr>\n",
       "    <tr>\n",
       "      <th>10</th>\n",
       "      <td>Stereo Total - Liebe zu dritt.mp3</td>\n",
       "      <td>99.384014</td>\n",
       "    </tr>\n",
       "    <tr>\n",
       "      <th>54</th>\n",
       "      <td>Black Milk - Could It Be.mp3</td>\n",
       "      <td>99.384014</td>\n",
       "    </tr>\n",
       "    <tr>\n",
       "      <th>31</th>\n",
       "      <td>James Brown - The Boss.mp3</td>\n",
       "      <td>99.384014</td>\n",
       "    </tr>\n",
       "    <tr>\n",
       "      <th>0</th>\n",
       "      <td>Shygirl - UCKERS.mp3</td>\n",
       "      <td>99.384014</td>\n",
       "    </tr>\n",
       "    <tr>\n",
       "      <th>39</th>\n",
       "      <td>SAULT - Up All Night.mp3</td>\n",
       "      <td>103.359375</td>\n",
       "    </tr>\n",
       "    <tr>\n",
       "      <th>21</th>\n",
       "      <td>Fértil Discos - Barda - Las Cosas Que Hay Det...</td>\n",
       "      <td>103.359375</td>\n",
       "    </tr>\n",
       "    <tr>\n",
       "      <th>27</th>\n",
       "      <td>Suuns - Up Past The Nursery.wav</td>\n",
       "      <td>103.359375</td>\n",
       "    </tr>\n",
       "    <tr>\n",
       "      <th>26</th>\n",
       "      <td>Acud - Der Gang.wav</td>\n",
       "      <td>103.359375</td>\n",
       "    </tr>\n",
       "    <tr>\n",
       "      <th>20</th>\n",
       "      <td>Madonna - Erotica.mp3</td>\n",
       "      <td>103.359375</td>\n",
       "    </tr>\n",
       "    <tr>\n",
       "      <th>2</th>\n",
       "      <td>Dan Bay - Wladimir Trump.wav</td>\n",
       "      <td>103.359375</td>\n",
       "    </tr>\n",
       "    <tr>\n",
       "      <th>55</th>\n",
       "      <td>Altin Gün - Süpürgesi Yoncadan.mp3</td>\n",
       "      <td>103.359375</td>\n",
       "    </tr>\n",
       "    <tr>\n",
       "      <th>78</th>\n",
       "      <td>DAENGER - Krokodil im Verzug.wav</td>\n",
       "      <td>107.666016</td>\n",
       "    </tr>\n",
       "    <tr>\n",
       "      <th>45</th>\n",
       "      <td>Ezra - Garten meiner Fantasie.wav</td>\n",
       "      <td>107.666016</td>\n",
       "    </tr>\n",
       "    <tr>\n",
       "      <th>84</th>\n",
       "      <td>Bee Gees - Night Fever.flac</td>\n",
       "      <td>107.666016</td>\n",
       "    </tr>\n",
       "    <tr>\n",
       "      <th>42</th>\n",
       "      <td>Djedjotronic - Are Friends Electric feat Lokie...</td>\n",
       "      <td>112.347147</td>\n",
       "    </tr>\n",
       "    <tr>\n",
       "      <th>37</th>\n",
       "      <td>THEME FROM THE WHITE LOTUS_THE ODDNESS REWORK.wav</td>\n",
       "      <td>112.347147</td>\n",
       "    </tr>\n",
       "    <tr>\n",
       "      <th>33</th>\n",
       "      <td>Nelson Bell - Ruhig Bleiben.wav</td>\n",
       "      <td>112.347147</td>\n",
       "    </tr>\n",
       "    <tr>\n",
       "      <th>30</th>\n",
       "      <td>The White Lotus Theme - The Oddness REWORK.wav</td>\n",
       "      <td>112.347147</td>\n",
       "    </tr>\n",
       "    <tr>\n",
       "      <th>29</th>\n",
       "      <td>Marie Davidson - The Psychologist.mp3</td>\n",
       "      <td>112.347147</td>\n",
       "    </tr>\n",
       "    <tr>\n",
       "      <th>16</th>\n",
       "      <td>Charlotte Adigéry &amp; Bolis Pupul - Paténipat.mp3</td>\n",
       "      <td>112.347147</td>\n",
       "    </tr>\n",
       "    <tr>\n",
       "      <th>23</th>\n",
       "      <td>DAF - Der Räuber und der Prinz 1981.mp3</td>\n",
       "      <td>112.347147</td>\n",
       "    </tr>\n",
       "  </tbody>\n",
       "</table>\n",
       "</div>"
      ],
      "text/plain": [
       "                                                 file         bpm\n",
       "65                      Vince Staples - Norf Norf.m4a   99.384014\n",
       "34            Tom Waits - Tango Till They're Sore.mp3   99.384014\n",
       "71       Twerking Class Heroes - Baile en patines.wav   99.384014\n",
       "61                  Donovan - Season Of The Witch.mp3   99.384014\n",
       "13                       Madonna - La Isla Bonita.mp3   99.384014\n",
       "10                  Stereo Total - Liebe zu dritt.mp3   99.384014\n",
       "54                       Black Milk - Could It Be.mp3   99.384014\n",
       "31                         James Brown - The Boss.mp3   99.384014\n",
       "0                                Shygirl - UCKERS.mp3   99.384014\n",
       "39                           SAULT - Up All Night.mp3  103.359375\n",
       "21  Fértil Discos - Barda - Las Cosas Que Hay Det...  103.359375\n",
       "27                    Suuns - Up Past The Nursery.wav  103.359375\n",
       "26                                Acud - Der Gang.wav  103.359375\n",
       "20                              Madonna - Erotica.mp3  103.359375\n",
       "2                        Dan Bay - Wladimir Trump.wav  103.359375\n",
       "55              Altin Gün - Süpürgesi Yoncadan.mp3  103.359375\n",
       "78                   DAENGER - Krokodil im Verzug.wav  107.666016\n",
       "45                  Ezra - Garten meiner Fantasie.wav  107.666016\n",
       "84                        Bee Gees - Night Fever.flac  107.666016\n",
       "42  Djedjotronic - Are Friends Electric feat Lokie...  112.347147\n",
       "37  THEME FROM THE WHITE LOTUS_THE ODDNESS REWORK.wav  112.347147\n",
       "33                    Nelson Bell - Ruhig Bleiben.wav  112.347147\n",
       "30     The White Lotus Theme - The Oddness REWORK.wav  112.347147\n",
       "29              Marie Davidson - The Psychologist.mp3  112.347147\n",
       "16  Charlotte Adigéry & Bolis Pupul - Paténipat.mp3  112.347147\n",
       "23           DAF - Der Räuber und der Prinz 1981.mp3  112.347147"
      ]
     },
     "execution_count": 58,
     "metadata": {},
     "output_type": "execute_result"
    }
   ],
   "source": [
    "filtered_files"
   ]
  },
  {
   "cell_type": "code",
   "execution_count": 59,
   "metadata": {},
   "outputs": [],
   "source": [
    "filtered_sample = filtered_files.query(\"file != @init_file_name\").sample(n=12).sample(frac=1)"
   ]
  },
  {
   "cell_type": "code",
   "execution_count": 60,
   "metadata": {},
   "outputs": [],
   "source": [
    "filtered_sample = filtered_sample.reset_index(drop=True)"
   ]
  },
  {
   "cell_type": "code",
   "execution_count": 61,
   "metadata": {},
   "outputs": [
    {
     "data": {
      "text/html": [
       "<div>\n",
       "<style scoped>\n",
       "    .dataframe tbody tr th:only-of-type {\n",
       "        vertical-align: middle;\n",
       "    }\n",
       "\n",
       "    .dataframe tbody tr th {\n",
       "        vertical-align: top;\n",
       "    }\n",
       "\n",
       "    .dataframe thead th {\n",
       "        text-align: right;\n",
       "    }\n",
       "</style>\n",
       "<table border=\"1\" class=\"dataframe\">\n",
       "  <thead>\n",
       "    <tr style=\"text-align: right;\">\n",
       "      <th></th>\n",
       "      <th>file</th>\n",
       "      <th>bpm</th>\n",
       "    </tr>\n",
       "  </thead>\n",
       "  <tbody>\n",
       "    <tr>\n",
       "      <th>0</th>\n",
       "      <td>Djedjotronic - Are Friends Electric feat Lokie...</td>\n",
       "      <td>112.347147</td>\n",
       "    </tr>\n",
       "    <tr>\n",
       "      <th>1</th>\n",
       "      <td>Fértil Discos - Barda - Las Cosas Que Hay Det...</td>\n",
       "      <td>103.359375</td>\n",
       "    </tr>\n",
       "    <tr>\n",
       "      <th>2</th>\n",
       "      <td>Vince Staples - Norf Norf.m4a</td>\n",
       "      <td>99.384014</td>\n",
       "    </tr>\n",
       "    <tr>\n",
       "      <th>3</th>\n",
       "      <td>Nelson Bell - Ruhig Bleiben.wav</td>\n",
       "      <td>112.347147</td>\n",
       "    </tr>\n",
       "    <tr>\n",
       "      <th>4</th>\n",
       "      <td>Shygirl - UCKERS.mp3</td>\n",
       "      <td>99.384014</td>\n",
       "    </tr>\n",
       "    <tr>\n",
       "      <th>5</th>\n",
       "      <td>Tom Waits - Tango Till They're Sore.mp3</td>\n",
       "      <td>99.384014</td>\n",
       "    </tr>\n",
       "    <tr>\n",
       "      <th>6</th>\n",
       "      <td>Twerking Class Heroes - Baile en patines.wav</td>\n",
       "      <td>99.384014</td>\n",
       "    </tr>\n",
       "    <tr>\n",
       "      <th>7</th>\n",
       "      <td>James Brown - The Boss.mp3</td>\n",
       "      <td>99.384014</td>\n",
       "    </tr>\n",
       "    <tr>\n",
       "      <th>8</th>\n",
       "      <td>Suuns - Up Past The Nursery.wav</td>\n",
       "      <td>103.359375</td>\n",
       "    </tr>\n",
       "    <tr>\n",
       "      <th>9</th>\n",
       "      <td>Bee Gees - Night Fever.flac</td>\n",
       "      <td>107.666016</td>\n",
       "    </tr>\n",
       "    <tr>\n",
       "      <th>10</th>\n",
       "      <td>Dan Bay - Wladimir Trump.wav</td>\n",
       "      <td>103.359375</td>\n",
       "    </tr>\n",
       "    <tr>\n",
       "      <th>11</th>\n",
       "      <td>Marie Davidson - The Psychologist.mp3</td>\n",
       "      <td>112.347147</td>\n",
       "    </tr>\n",
       "  </tbody>\n",
       "</table>\n",
       "</div>"
      ],
      "text/plain": [
       "                                                 file         bpm\n",
       "0   Djedjotronic - Are Friends Electric feat Lokie...  112.347147\n",
       "1   Fértil Discos - Barda - Las Cosas Que Hay Det...  103.359375\n",
       "2                       Vince Staples - Norf Norf.m4a   99.384014\n",
       "3                     Nelson Bell - Ruhig Bleiben.wav  112.347147\n",
       "4                                Shygirl - UCKERS.mp3   99.384014\n",
       "5             Tom Waits - Tango Till They're Sore.mp3   99.384014\n",
       "6        Twerking Class Heroes - Baile en patines.wav   99.384014\n",
       "7                          James Brown - The Boss.mp3   99.384014\n",
       "8                     Suuns - Up Past The Nursery.wav  103.359375\n",
       "9                         Bee Gees - Night Fever.flac  107.666016\n",
       "10                       Dan Bay - Wladimir Trump.wav  103.359375\n",
       "11              Marie Davidson - The Psychologist.mp3  112.347147"
      ]
     },
     "execution_count": 61,
     "metadata": {},
     "output_type": "execute_result"
    }
   ],
   "source": [
    "filtered_sample"
   ]
  },
  {
   "cell_type": "code",
   "execution_count": 62,
   "metadata": {},
   "outputs": [],
   "source": [
    "init_row = pd.DataFrame({'file': [init_file_name], 'bpm': [init_tempo]})\n",
    "filtered_sample = pd.concat([init_row, filtered_sample], ignore_index=True)"
   ]
  },
  {
   "cell_type": "code",
   "execution_count": 63,
   "metadata": {},
   "outputs": [
    {
     "data": {
      "text/html": [
       "<div>\n",
       "<style scoped>\n",
       "    .dataframe tbody tr th:only-of-type {\n",
       "        vertical-align: middle;\n",
       "    }\n",
       "\n",
       "    .dataframe tbody tr th {\n",
       "        vertical-align: top;\n",
       "    }\n",
       "\n",
       "    .dataframe thead th {\n",
       "        text-align: right;\n",
       "    }\n",
       "</style>\n",
       "<table border=\"1\" class=\"dataframe\">\n",
       "  <thead>\n",
       "    <tr style=\"text-align: right;\">\n",
       "      <th></th>\n",
       "      <th>file</th>\n",
       "      <th>bpm</th>\n",
       "    </tr>\n",
       "  </thead>\n",
       "  <tbody>\n",
       "    <tr>\n",
       "      <th>0</th>\n",
       "      <td>Ezra - Garten meiner Fantasie.wav</td>\n",
       "      <td>107.666016</td>\n",
       "    </tr>\n",
       "    <tr>\n",
       "      <th>1</th>\n",
       "      <td>Djedjotronic - Are Friends Electric feat Lokie...</td>\n",
       "      <td>112.347147</td>\n",
       "    </tr>\n",
       "    <tr>\n",
       "      <th>2</th>\n",
       "      <td>Fértil Discos - Barda - Las Cosas Que Hay Det...</td>\n",
       "      <td>103.359375</td>\n",
       "    </tr>\n",
       "    <tr>\n",
       "      <th>3</th>\n",
       "      <td>Vince Staples - Norf Norf.m4a</td>\n",
       "      <td>99.384014</td>\n",
       "    </tr>\n",
       "    <tr>\n",
       "      <th>4</th>\n",
       "      <td>Nelson Bell - Ruhig Bleiben.wav</td>\n",
       "      <td>112.347147</td>\n",
       "    </tr>\n",
       "    <tr>\n",
       "      <th>5</th>\n",
       "      <td>Shygirl - UCKERS.mp3</td>\n",
       "      <td>99.384014</td>\n",
       "    </tr>\n",
       "    <tr>\n",
       "      <th>6</th>\n",
       "      <td>Tom Waits - Tango Till They're Sore.mp3</td>\n",
       "      <td>99.384014</td>\n",
       "    </tr>\n",
       "    <tr>\n",
       "      <th>7</th>\n",
       "      <td>Twerking Class Heroes - Baile en patines.wav</td>\n",
       "      <td>99.384014</td>\n",
       "    </tr>\n",
       "    <tr>\n",
       "      <th>8</th>\n",
       "      <td>James Brown - The Boss.mp3</td>\n",
       "      <td>99.384014</td>\n",
       "    </tr>\n",
       "    <tr>\n",
       "      <th>9</th>\n",
       "      <td>Suuns - Up Past The Nursery.wav</td>\n",
       "      <td>103.359375</td>\n",
       "    </tr>\n",
       "    <tr>\n",
       "      <th>10</th>\n",
       "      <td>Bee Gees - Night Fever.flac</td>\n",
       "      <td>107.666016</td>\n",
       "    </tr>\n",
       "    <tr>\n",
       "      <th>11</th>\n",
       "      <td>Dan Bay - Wladimir Trump.wav</td>\n",
       "      <td>103.359375</td>\n",
       "    </tr>\n",
       "    <tr>\n",
       "      <th>12</th>\n",
       "      <td>Marie Davidson - The Psychologist.mp3</td>\n",
       "      <td>112.347147</td>\n",
       "    </tr>\n",
       "  </tbody>\n",
       "</table>\n",
       "</div>"
      ],
      "text/plain": [
       "                                                 file         bpm\n",
       "0                   Ezra - Garten meiner Fantasie.wav  107.666016\n",
       "1   Djedjotronic - Are Friends Electric feat Lokie...  112.347147\n",
       "2   Fértil Discos - Barda - Las Cosas Que Hay Det...  103.359375\n",
       "3                       Vince Staples - Norf Norf.m4a   99.384014\n",
       "4                     Nelson Bell - Ruhig Bleiben.wav  112.347147\n",
       "5                                Shygirl - UCKERS.mp3   99.384014\n",
       "6             Tom Waits - Tango Till They're Sore.mp3   99.384014\n",
       "7        Twerking Class Heroes - Baile en patines.wav   99.384014\n",
       "8                          James Brown - The Boss.mp3   99.384014\n",
       "9                     Suuns - Up Past The Nursery.wav  103.359375\n",
       "10                        Bee Gees - Night Fever.flac  107.666016\n",
       "11                       Dan Bay - Wladimir Trump.wav  103.359375\n",
       "12              Marie Davidson - The Psychologist.mp3  112.347147"
      ]
     },
     "execution_count": 63,
     "metadata": {},
     "output_type": "execute_result"
    }
   ],
   "source": [
    "filtered_sample"
   ]
  },
  {
   "cell_type": "code",
   "execution_count": 64,
   "metadata": {},
   "outputs": [],
   "source": [
    "target_bpm = filtered_sample.bpm.mean()"
   ]
  },
  {
   "cell_type": "code",
   "execution_count": 65,
   "metadata": {},
   "outputs": [
    {
     "data": {
      "text/plain": [
       "103.359375"
      ]
     },
     "execution_count": 65,
     "metadata": {},
     "output_type": "execute_result"
    }
   ],
   "source": [
    "filtered_sample.bpm.median()"
   ]
  },
  {
   "cell_type": "code",
   "execution_count": 66,
   "metadata": {},
   "outputs": [
    {
     "data": {
      "text/plain": [
       "5.318925466166762"
      ]
     },
     "execution_count": 66,
     "metadata": {},
     "output_type": "execute_result"
    }
   ],
   "source": [
    "filtered_sample.bpm.std()"
   ]
  },
  {
   "cell_type": "code",
   "execution_count": 67,
   "metadata": {},
   "outputs": [],
   "source": [
    "import pyrubberband as pyrb\n",
    "import soundfile as sf\n"
   ]
  },
  {
   "cell_type": "code",
   "execution_count": 68,
   "metadata": {},
   "outputs": [],
   "source": [
    "def adjust_tempo(input_file, output_file, target_bpm):\n",
    "    y, sr = librosa.load(input_file)\n",
    "    tempo, beat_frames = librosa.beat.beat_track(y=y, sr=sr)\n",
    "    current_bpm = librosa.beat.tempo(y=y, sr=sr, hop_length=512)[0]\n",
    "    time_stretch_ratio = target_bpm / current_bpm\n",
    "    y_stretched = librosa.effects.time_stretch(y=y, rate=time_stretch_ratio)\n",
    "    sf.write(output_file, y_stretched, sr)\n"
   ]
  },
  {
   "cell_type": "code",
   "execution_count": 69,
   "metadata": {},
   "outputs": [
    {
     "name": "stderr",
     "output_type": "stream",
     "text": [
      "/var/folders/sn/zz32wyd938j2bblqhcs5jn180000gn/T/ipykernel_5682/1773932158.py:4: FutureWarning: librosa.beat.tempo\n",
      "\tThis function was moved to 'librosa.feature.rhythm.tempo' in librosa version 0.10.0.\n",
      "\tThis alias will be removed in librosa version 1.0.\n",
      "  current_bpm = librosa.beat.tempo(y=y, sr=sr, hop_length=512)[0]\n",
      "/var/folders/sn/zz32wyd938j2bblqhcs5jn180000gn/T/ipykernel_5682/1773932158.py:2: UserWarning: PySoundFile failed. Trying audioread instead.\n",
      "  y, sr = librosa.load(input_file)\n",
      "/Users/bjornbraun/anaconda3/lib/python3.10/site-packages/librosa/core/audio.py:184: FutureWarning: librosa.core.audio.__audioread_load\n",
      "\tDeprecated as of librosa version 0.10.0.\n",
      "\tIt will be removed in librosa version 1.0.\n",
      "  y, sr_native = __audioread_load(path, offset, duration, dtype)\n"
     ]
    }
   ],
   "source": [
    "for file in filtered_sample['file']:\n",
    "    try:\n",
    "        input_file = ''.join([files_folder, file])\n",
    "        output_file = ''.join([files_folder, 'bpm_adjusted_', file])\n",
    "        adjust_tempo(input_file, output_file, target_bpm)\n",
    "    except:\n",
    "        continue"
   ]
  },
  {
   "cell_type": "code",
   "execution_count": 70,
   "metadata": {},
   "outputs": [],
   "source": [
    "bpm_adjusted_files = []\n",
    "for file in os.listdir(files_folder):\n",
    "    try:\n",
    "        if file.startswith('bpm_adjusted'):\n",
    "            y, sr = librosa.load(''.join([files_folder,file]))\n",
    "            tempo, _ = librosa.beat.beat_track(y=y, sr=sr)\n",
    "            bpm_adjusted_files.append([file, tempo])\n",
    "    except:\n",
    "        continue"
   ]
  },
  {
   "cell_type": "code",
   "execution_count": 71,
   "metadata": {},
   "outputs": [
    {
     "data": {
      "text/plain": [
       "[['bpm_adjusted_Suuns - Up Past The Nursery.wav', 107.666015625],\n",
       " ['bpm_adjusted_Nelson Bell - Ruhig Bleiben.wav', 103.359375],\n",
       " ['bpm_adjusted_Marie Davidson - The Psychologist.mp3', 103.359375],\n",
       " [\"bpm_adjusted_Tom Waits - Tango Till They're Sore.mp3\", 103.359375],\n",
       " ['bpm_adjusted_Fértil Discos - Barda - Las Cosas Que Hay Detras del Sol (feat Nick Drake).wav',\n",
       "  103.359375],\n",
       " ['bpm_adjusted_Djedjotronic - Are Friends Electric feat Lokier.flac',\n",
       "  103.359375],\n",
       " ['bpm_adjusted_Dan Bay - Wladimir Trump.wav', 107.666015625],\n",
       " ['bpm_adjusted_Ezra - Garten meiner Fantasie.wav', 103.359375],\n",
       " ['bpm_adjusted_Bee Gees - Night Fever.flac', 107.666015625],\n",
       " ['bpm_adjusted_Twerking Class Heroes - Baile en patines.wav', 107.666015625],\n",
       " ['bpm_adjusted_Shygirl - UCKERS.mp3', 103.359375],\n",
       " ['bpm_adjusted_James Brown - The Boss.mp3', 103.359375]]"
      ]
     },
     "execution_count": 71,
     "metadata": {},
     "output_type": "execute_result"
    }
   ],
   "source": [
    "bpm_adjusted_files"
   ]
  },
  {
   "cell_type": "code",
   "execution_count": 1,
   "metadata": {},
   "outputs": [],
   "source": [
    "import madmom"
   ]
  },
  {
   "cell_type": "code",
   "execution_count": null,
   "metadata": {},
   "outputs": [],
   "source": []
  }
 ],
 "metadata": {
  "kernelspec": {
   "display_name": "base",
   "language": "python",
   "name": "python3"
  },
  "language_info": {
   "codemirror_mode": {
    "name": "ipython",
    "version": 3
   },
   "file_extension": ".py",
   "mimetype": "text/x-python",
   "name": "python",
   "nbconvert_exporter": "python",
   "pygments_lexer": "ipython3",
   "version": "3.10.9"
  },
  "orig_nbformat": 4
 },
 "nbformat": 4,
 "nbformat_minor": 2
}
