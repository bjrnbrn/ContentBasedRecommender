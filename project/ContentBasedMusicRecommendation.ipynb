{
 "cells": [
  {
   "attachments": {},
   "cell_type": "markdown",
   "metadata": {},
   "source": [
    "# Automatic Playlist Generation:\n",
    "# A Content-Based Music Sequence Recommender System"
   ]
  },
  {
   "attachments": {},
   "cell_type": "markdown",
   "metadata": {},
   "source": [
    "## 1. Concept\n",
    "\n",
    "#### A. Podcast-like Playlists:\n",
    "- Categorical Tags (Genre, Era/Year, Label, Producers)\n",
    "- Qualitative Tags (Dancebility, BPM, Key, Vocal/Instrumental)\n",
    "\n",
    "#### B. Mixtape-like Playlists:  \n",
    "- Audio Features\n",
    "- Feature Similarity Measures   \n",
    "    - Harmony\n",
    "    - Rhythm\n",
    "    - Sound\n",
    "    - Instrumentation\n",
    "    - Mood/Sentiment\n",
    "    - Dynamic\n",
    "\n",
    "#### C. DJ-Mixes:\n",
    "- Start/Intro & End/Outro Features of Songs\n",
    "- Beat Matching Features\n",
    "- Song to Song Transition Features\n",
    "- Story Telling Features over whole Song Sequence    \n",
    "- Coherence Measures for Transitions & Sequences"
   ]
  },
  {
   "attachments": {},
   "cell_type": "markdown",
   "metadata": {},
   "source": [
    "## 2. Recommender Systems Overview: State of the Art Approaches\n",
    "\n",
    "#### A. Two General Approaches:\n",
    "\n",
    "- **Collaborative filtering:** Matrix Factorization, alternating least squares\n",
    "- **Content-based approaches:** Input is music information (basis of songs and/or \n",
    "    existing playlists) fetched through Music Information Retrieval (MIR) processes\n",
    "\n",
    "\n",
    "#### B. What are the Recommendations / the generated Playlists based on?\n",
    "\n",
    "- emotion / mood\n",
    "- genre\n",
    "- user taste\n",
    "- user similarity\n",
    "- popularity\n",
    "\n",
    "\n",
    "#### C. More recent Approaches / Deep Learning Approaches\n",
    "\n",
    "- Sequence-aware music recommendation:\n",
    "    - Next track recommendatons\n",
    "    - Automatic playlist continuation (APC)"
   ]
  },
  {
   "attachments": {},
   "cell_type": "markdown",
   "metadata": {},
   "source": [
    "## 3. Possible Datasets, Models & Feature Selection\n",
    "\n",
    "#### A. Datasets:\n",
    "\n",
    "[**Melon Music Dataset**](https://github.com/MTG/melon-music-dataset)  \n",
    "[last.fm Dataset](https://zenodo.org/record/6090214)  \n",
    "[MTG Barcelona Datasets & Software](https://www.upf.edu/web/mtg/software-datasets)  \n",
    "[Kaggle: Spotify Tracks Dataset](https://www.kaggle.com/datasets/maharshipandya/-spotify-tracks-dataset?datasetId=2570056&sortBy=voteCount)  \n",
    "[Kaggle: Spotify Playlists Dataset](https://www.kaggle.com/datasets/andrewmvd/spotify-playlists?datasetId=1720572&sortBy=voteCount)\n",
    "\n",
    "#### B. Python Audio Analysis (MIR) Packages: \n",
    "\n",
    "[**Essentia (ML Application ready)**](https://essentia.upf.edu/)  \n",
    "[Essentia citing papers](https://essentia.upf.edu/research_papers.html)  \n",
    "[**Librosa (lightweigth analysis)**](https://librosa.org/doc/main/feature.html)\n",
    "\n",
    "\n",
    "#### C. Youtube Tutorials:\n",
    "\n",
    "[Spotify Playlist Generation](https://www.youtube.com/watch?v=3vvvjdmBoyc&list=PL-wATfeyAMNrTEgZyfF66TwejA0MRX7x1&index=2)  \n",
    "[Librosa Music Analysis](https://www.youtube.com/watch?v=MhOdbtPhbLU)"
   ]
  },
  {
   "attachments": {},
   "cell_type": "markdown",
   "metadata": {},
   "source": [
    "## 4. Content-Based Recommendation\n",
    "\n",
    "**Reasoning:** *Cold-start problem for metadata-based recommendation systems using only user-generated metadata*  \n",
    "**Solution:** *Find underlying features of audio/music by MIR*  \n",
    "**High-level Features:** *genre, mood, instrument(s), vocals, gender of singing voice, lyrics, ...*  \n",
    "**Low-level Features:** *MFCC, ZCR, Spectral Coefficients, mixability*\n",
    "\n"
   ]
  },
  {
   "attachments": {},
   "cell_type": "markdown",
   "metadata": {},
   "source": [
    "## 5. Strategy\n",
    "\n",
    "    1. Obtain mixes data for Model from mixesdB  \n",
    "\n",
    "    2. Get songs for each mix  \n",
    "        2.1 Get songs from mixesDB  \n",
    "        2.2 Get 30s songs from Spotify API\n",
    "\n",
    "    3. Analyze song / sequence data for content-based Recommendation system  \n",
    "\n",
    "    4. Produce playlists  \n",
    "    \n",
    "    5. Compare to baseline model  \n",
    "\n",
    "    (6. Produce dj-mix with transitions)"
   ]
  },
  {
   "attachments": {},
   "cell_type": "markdown",
   "metadata": {},
   "source": [
    "map mixes songs to spotify\n",
    "\n",
    "extract items featurers matrix for mixes"
   ]
  },
  {
   "attachments": {},
   "cell_type": "markdown",
   "metadata": {},
   "source": [
    "## CODE"
   ]
  },
  {
   "cell_type": "code",
   "execution_count": null,
   "metadata": {},
   "outputs": [],
   "source": [
    "import numpy as np\n",
    "import pandas as pd\n",
    "\n",
    "import matplotlib\n",
    "import matplotlib.pylab as plt\n",
    "%matplotlib inline\n",
    "\n",
    "import spotipy\n",
    "from spotipy.oauth2 import SpotifyClientCredentials\n",
    "import time\n",
    "import math\n",
    "\n",
    "\n",
    "import librosa\n",
    "import librosa.display\n",
    "\n",
    "from IPython.display import Audio\n",
    "import ipywidgets as widgets"
   ]
  },
  {
   "attachments": {},
   "cell_type": "markdown",
   "metadata": {},
   "source": [
    "#### Librosa: MIR Library"
   ]
  },
  {
   "cell_type": "code",
   "execution_count": null,
   "metadata": {},
   "outputs": [],
   "source": [
    "file = '../audio/Marie Davidson - Work It.mp3'"
   ]
  },
  {
   "cell_type": "code",
   "execution_count": null,
   "metadata": {},
   "outputs": [],
   "source": [
    "song_file = file.split('/')[-1]"
   ]
  },
  {
   "cell_type": "code",
   "execution_count": null,
   "metadata": {},
   "outputs": [],
   "source": [
    "song_name = song_file.split('.')[0]"
   ]
  },
  {
   "cell_type": "code",
   "execution_count": null,
   "metadata": {},
   "outputs": [],
   "source": [
    "song_ext = song_file.split('.')[1]"
   ]
  },
  {
   "cell_type": "code",
   "execution_count": null,
   "metadata": {},
   "outputs": [],
   "source": [
    "y, sr = librosa.load(file)"
   ]
  },
  {
   "attachments": {},
   "cell_type": "markdown",
   "metadata": {},
   "source": [
    "#### The Mel-Spectogram"
   ]
  },
  {
   "cell_type": "code",
   "execution_count": null,
   "metadata": {},
   "outputs": [],
   "source": [
    "S = librosa.feature.melspectrogram(y=y, sr=sr, n_mels=128)"
   ]
  },
  {
   "cell_type": "code",
   "execution_count": null,
   "metadata": {},
   "outputs": [],
   "source": [
    "log_S = librosa.power_to_db(S, ref=np.max)"
   ]
  },
  {
   "cell_type": "code",
   "execution_count": null,
   "metadata": {},
   "outputs": [],
   "source": [
    "plt.figure(figsize=(16,4))\n",
    "librosa.display.specshow(log_S, sr=sr, x_axis='time', y_axis='mel')\n",
    "plt.title('mel power sprectrogram for: {}'.format(song_name))\n",
    "plt.colorbar(format='%+02.0f dB')\n",
    "plt.show()"
   ]
  },
  {
   "attachments": {},
   "cell_type": "markdown",
   "metadata": {},
   "source": [
    "#### The Chromagram"
   ]
  },
  {
   "cell_type": "code",
   "execution_count": null,
   "metadata": {},
   "outputs": [],
   "source": [
    "y_harmonic, y_percussive = librosa.effects.hpss(y)"
   ]
  },
  {
   "cell_type": "code",
   "execution_count": null,
   "metadata": {},
   "outputs": [],
   "source": [
    "C = librosa.feature.chroma_cqt(y=y_harmonic, sr=sr)"
   ]
  },
  {
   "cell_type": "code",
   "execution_count": null,
   "metadata": {},
   "outputs": [],
   "source": [
    "plt.figure(figsize=(16,4))\n",
    "librosa.display.specshow(C, sr=sr, x_axis='time', y_axis='chroma', vmin=0, vmax=1)\n",
    "plt.title('Chromagram for: {}'.format(song_name))\n",
    "plt.colorbar()\n",
    "plt.show()"
   ]
  },
  {
   "attachments": {},
   "cell_type": "markdown",
   "metadata": {},
   "source": [
    "#### Spotipy: Spotify Web API"
   ]
  },
  {
   "cell_type": "code",
   "execution_count": null,
   "metadata": {},
   "outputs": [],
   "source": [
    "cid = '4dec6d8665bc47a0a5c48c24f3322241'\n",
    "secret = '2434bcfb453d442096d29fa57eb50e41'\n",
    "username = '1182143609'\n",
    "client_credentials_manager = SpotifyClientCredentials(client_id=cid, client_secret=secret)\n",
    "sp = spotipy.Spotify(client_credentials_manager=client_credentials_manager)"
   ]
  },
  {
   "attachments": {},
   "cell_type": "markdown",
   "metadata": {},
   "source": [
    "#### mixesDb Extractions"
   ]
  },
  {
   "cell_type": "code",
   "execution_count": null,
   "metadata": {},
   "outputs": [],
   "source": [
    "tracklist = [\n",
    "    'uNYS-FibMn8',\n",
    "    '_5E3ggezzww',\n",
    "    None,\n",
    "    '7ythk60VILM',\n",
    "    'u005Fx-YBSI',\n",
    "    None,\n",
    "    'bxPiEolWDZY',\n",
    "    '8WG0rjNApFk',\n",
    "    'zhhHG2AWu80',\n",
    "    'y-N9iNr3wcU',\n",
    "    'Z-I8HLaIOIY',\n",
    "    'LKKgi6rDWJA',\n",
    "    '0Z_319O2GhI',\n",
    "    'f8cHxydDb7o',\n",
    "    'zXSzJB_0yjk',\n",
    "    'HTJxoLy25Xo',\n",
    "    'YFLt1lhbtKM',\n",
    "    None,\n",
    "    's3dNTgA1eyo',\n",
    "    'ffePfl-Ew_c',\n",
    "    'H9vP9GPUkGI'\n",
    "]"
   ]
  },
  {
   "cell_type": "code",
   "execution_count": null,
   "metadata": {},
   "outputs": [],
   "source": [
    "import os\n",
    "path = '../data/tracks'\n",
    "files = os.listdir(path)\n",
    "\n",
    "\n",
    "for index, file in enumerate(files):\n",
    "    os.rename(os.path.join(path, file), os.path.join(path, file + '.mp3'))"
   ]
  },
  {
   "cell_type": "code",
   "execution_count": null,
   "metadata": {},
   "outputs": [],
   "source": [
    "tracks_mp3 = []\n",
    "\n",
    "for id in tracklist:\n",
    "    if id:\n",
    "        file = f'../data/tracks/{id}.mp3'\n",
    "        tracks_mp3.append(file)"
   ]
  },
  {
   "cell_type": "code",
   "execution_count": null,
   "metadata": {},
   "outputs": [],
   "source": [
    "tracks_mp3"
   ]
  },
  {
   "cell_type": "code",
   "execution_count": null,
   "metadata": {},
   "outputs": [],
   "source": [
    "tracks_mp3[0]"
   ]
  },
  {
   "cell_type": "code",
   "execution_count": null,
   "metadata": {},
   "outputs": [],
   "source": [
    "def mel_spec_tracks(file):\n",
    "\n",
    "    y, sr = librosa.load(file)\n",
    "\n",
    "    spec = librosa.feature.melspectrogram(y=y, sr=sr)\n",
    "\n",
    "    return spec"
   ]
  },
  {
   "cell_type": "code",
   "execution_count": null,
   "metadata": {},
   "outputs": [],
   "source": [
    "def plot_mel_spec(S):\n",
    "\n",
    "    fig, ax = plt.subplots()\n",
    "\n",
    "    S_dB = librosa.power_to_db(S, ref=np.max)\n",
    "\n",
    "    img = librosa.display.specshow(\n",
    "        S_dB,\n",
    "        x_axis='time',\n",
    "        y_axis='mel',\n",
    "        sr=sr,\n",
    "        fmax=8000,\n",
    "        ax=ax\n",
    "        )\n",
    "\n",
    "    fig.colorbar(img, ax=ax, format='%+2.0f dB')\n",
    "\n",
    "    ax.set(title='Mel-frequency spectrogram')\n"
   ]
  },
  {
   "cell_type": "code",
   "execution_count": null,
   "metadata": {},
   "outputs": [],
   "source": [
    "# specs = []\n",
    "# for file in tracks_mp3:\n",
    "#     spec = mel_spec_tracks(file)\n",
    "#     plot_mel_spec(spec)"
   ]
  },
  {
   "cell_type": "code",
   "execution_count": null,
   "metadata": {},
   "outputs": [],
   "source": [
    "def chromogram_plot(file):\n",
    "    y, sr = librosa.load(file)    \n",
    "    y_harmonic, y_percussive = librosa.effects.hpss(y)\n",
    "    C = librosa.feature.chroma_cqt(y=y_harmonic, sr=sr)\n",
    "    plt.figure(figsize=(12,4))\n",
    "    librosa.display.specshow(C, sr=sr, x_axis='time', y_axis='chroma', vmin=0, vmax=1)\n",
    "    plt.title('Chromagram for: {}'.format(song_name))\n",
    "    plt.colorbar()\n",
    "    plt.show()"
   ]
  },
  {
   "cell_type": "code",
   "execution_count": null,
   "metadata": {},
   "outputs": [],
   "source": [
    "# for file in tracks_mp3:\n",
    "#     chromogram_plot(file)"
   ]
  },
  {
   "cell_type": "code",
   "execution_count": null,
   "metadata": {},
   "outputs": [],
   "source": []
  }
 ],
 "metadata": {
  "kernelspec": {
   "display_name": "base",
   "language": "python",
   "name": "python3"
  },
  "language_info": {
   "codemirror_mode": {
    "name": "ipython",
    "version": 3
   },
   "file_extension": ".py",
   "mimetype": "text/x-python",
   "name": "python",
   "nbconvert_exporter": "python",
   "pygments_lexer": "ipython3",
   "version": "3.10.9"
  },
  "orig_nbformat": 4
 },
 "nbformat": 4,
 "nbformat_minor": 2
}
