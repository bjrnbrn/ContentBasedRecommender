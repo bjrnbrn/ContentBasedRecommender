{
 "cells": [
  {
   "attachments": {},
   "cell_type": "markdown",
   "metadata": {},
   "source": [
    "#### mixesDb Extractions"
   ]
  },
  {
   "cell_type": "code",
   "execution_count": 1,
   "metadata": {},
   "outputs": [],
   "source": [
    "from eda import Mixes, Tracks"
   ]
  },
  {
   "cell_type": "code",
   "execution_count": 2,
   "metadata": {},
   "outputs": [],
   "source": [
    "mixes = Mixes('../data/djmix-dataset.json', min_files=5, max_files=20)"
   ]
  },
  {
   "cell_type": "code",
   "execution_count": 3,
   "metadata": {},
   "outputs": [
    {
     "name": "stdout",
     "output_type": "stream",
     "text": [
      "<class 'eda.Mixes'>\n",
      "RangeIndex: 278 entries, 0 to 277\n",
      "Data columns (total 8 columns):\n",
      " #   Column             Non-Null Count  Dtype \n",
      "---  ------             --------------  ----- \n",
      " 0   mix_id             278 non-null    object\n",
      " 1   tracks_identified  278 non-null    int64 \n",
      " 2   tracks_total       278 non-null    int64 \n",
      " 3   tracklist          278 non-null    object\n",
      " 4   genre              278 non-null    object\n",
      " 5   year               278 non-null    int64 \n",
      " 6   available_files    278 non-null    object\n",
      " 7   files_count        278 non-null    int64 \n",
      "dtypes: int64(4), object(4)\n",
      "memory usage: 17.5+ KB\n"
     ]
    }
   ],
   "source": [
    "mixes.info()"
   ]
  },
  {
   "cell_type": "code",
   "execution_count": 4,
   "metadata": {},
   "outputs": [
    {
     "data": {
      "text/html": [
       "<div>\n",
       "<style scoped>\n",
       "    .dataframe tbody tr th:only-of-type {\n",
       "        vertical-align: middle;\n",
       "    }\n",
       "\n",
       "    .dataframe tbody tr th {\n",
       "        vertical-align: top;\n",
       "    }\n",
       "\n",
       "    .dataframe thead th {\n",
       "        text-align: right;\n",
       "    }\n",
       "</style>\n",
       "<table border=\"1\" class=\"dataframe\">\n",
       "  <thead>\n",
       "    <tr style=\"text-align: right;\">\n",
       "      <th></th>\n",
       "      <th>mix_id</th>\n",
       "      <th>tracks_identified</th>\n",
       "      <th>tracks_total</th>\n",
       "      <th>tracklist</th>\n",
       "      <th>genre</th>\n",
       "      <th>year</th>\n",
       "      <th>available_files</th>\n",
       "      <th>files_count</th>\n",
       "    </tr>\n",
       "  </thead>\n",
       "  <tbody>\n",
       "    <tr>\n",
       "      <th>0</th>\n",
       "      <td>mix0018</td>\n",
       "      <td>13</td>\n",
       "      <td>14</td>\n",
       "      <td>[7ZOqI15csjw, None, n4xiIDK8SoI, 4o4joooH5tg, ...</td>\n",
       "      <td>Techno</td>\n",
       "      <td>1995</td>\n",
       "      <td>[7ZOqI15csjw, n4xiIDK8SoI, 4o4joooH5tg, VKLZ4g...</td>\n",
       "      <td>13</td>\n",
       "    </tr>\n",
       "    <tr>\n",
       "      <th>1</th>\n",
       "      <td>mix0066</td>\n",
       "      <td>10</td>\n",
       "      <td>13</td>\n",
       "      <td>[None, qycAC_6Bbto, _QFaJ10-IfA, mSCtgcTBJpw, ...</td>\n",
       "      <td>Progressive</td>\n",
       "      <td>2000</td>\n",
       "      <td>[qycAC_6Bbto, _QFaJ10-IfA, mSCtgcTBJpw, Y_Gx61...</td>\n",
       "      <td>9</td>\n",
       "    </tr>\n",
       "    <tr>\n",
       "      <th>2</th>\n",
       "      <td>mix0126</td>\n",
       "      <td>14</td>\n",
       "      <td>14</td>\n",
       "      <td>[Nz2SHyePD2o, tcwjlNMPxMM, RV8jSPQtOsU, AdM6Kn...</td>\n",
       "      <td>Progressive</td>\n",
       "      <td>2002</td>\n",
       "      <td>[Nz2SHyePD2o, tcwjlNMPxMM, RV8jSPQtOsU, AdM6Kn...</td>\n",
       "      <td>14</td>\n",
       "    </tr>\n",
       "    <tr>\n",
       "      <th>3</th>\n",
       "      <td>mix0136</td>\n",
       "      <td>19</td>\n",
       "      <td>20</td>\n",
       "      <td>[NZWw0wD3Bwk, oBXfAPtGJkg, gINgF2YbAzo, zxxx-U...</td>\n",
       "      <td>Trance</td>\n",
       "      <td>2002</td>\n",
       "      <td>[NZWw0wD3Bwk, vq4kUjqBh10, tBnf98KdpWM, tcwjlN...</td>\n",
       "      <td>5</td>\n",
       "    </tr>\n",
       "    <tr>\n",
       "      <th>4</th>\n",
       "      <td>mix0141</td>\n",
       "      <td>17</td>\n",
       "      <td>18</td>\n",
       "      <td>[J-IMugmfpU0, 5jxRNG4WqgM, jzZsomI_tUU, G5RCTu...</td>\n",
       "      <td>Progressive Trance</td>\n",
       "      <td>2003</td>\n",
       "      <td>[J-IMugmfpU0, 5jxRNG4WqgM, jzZsomI_tUU, G5RCTu...</td>\n",
       "      <td>17</td>\n",
       "    </tr>\n",
       "    <tr>\n",
       "      <th>...</th>\n",
       "      <td>...</td>\n",
       "      <td>...</td>\n",
       "      <td>...</td>\n",
       "      <td>...</td>\n",
       "      <td>...</td>\n",
       "      <td>...</td>\n",
       "      <td>...</td>\n",
       "      <td>...</td>\n",
       "    </tr>\n",
       "    <tr>\n",
       "      <th>273</th>\n",
       "      <td>mix4449</td>\n",
       "      <td>10</td>\n",
       "      <td>13</td>\n",
       "      <td>[FwvHof6QbVM, 0U5yzv3o6ug, 0gEC_jJ9a9g, None, ...</td>\n",
       "      <td>Various</td>\n",
       "      <td>2019</td>\n",
       "      <td>[FwvHof6QbVM, 0U5yzv3o6ug, 0gEC_jJ9a9g, 8dgEKH...</td>\n",
       "      <td>8</td>\n",
       "    </tr>\n",
       "    <tr>\n",
       "      <th>274</th>\n",
       "      <td>mix4646</td>\n",
       "      <td>10</td>\n",
       "      <td>11</td>\n",
       "      <td>[EPC1u4vQ6Kk, None, InE1GUFz_fA, HrYWeIdEyVE, ...</td>\n",
       "      <td>Various</td>\n",
       "      <td>2019</td>\n",
       "      <td>[EPC1u4vQ6Kk, InE1GUFz_fA, HrYWeIdEyVE, zvFVOv...</td>\n",
       "      <td>10</td>\n",
       "    </tr>\n",
       "    <tr>\n",
       "      <th>275</th>\n",
       "      <td>mix4699</td>\n",
       "      <td>10</td>\n",
       "      <td>12</td>\n",
       "      <td>[VDoIfDghpyk, kU65WDeoMps, hOulfSfBhPc, vMZz7X...</td>\n",
       "      <td>Jungle</td>\n",
       "      <td>2019</td>\n",
       "      <td>[VDoIfDghpyk, kU65WDeoMps, hOulfSfBhPc, vMZz7X...</td>\n",
       "      <td>10</td>\n",
       "    </tr>\n",
       "    <tr>\n",
       "      <th>276</th>\n",
       "      <td>mix4702</td>\n",
       "      <td>15</td>\n",
       "      <td>19</td>\n",
       "      <td>[glAEPjCTr_I, HfdpXQ6cSyw, bJSAqj_aEes, None, ...</td>\n",
       "      <td>Tech House</td>\n",
       "      <td>2019</td>\n",
       "      <td>[glAEPjCTr_I, HfdpXQ6cSyw, 0jfovV5K0fk, TLsxXP...</td>\n",
       "      <td>10</td>\n",
       "    </tr>\n",
       "    <tr>\n",
       "      <th>277</th>\n",
       "      <td>mix4958</td>\n",
       "      <td>19</td>\n",
       "      <td>21</td>\n",
       "      <td>[uNYS-FibMn8, _5E3ggezzww, aO4Hz5i-3dQ, 7ythk6...</td>\n",
       "      <td>Ghetto</td>\n",
       "      <td>2020</td>\n",
       "      <td>[uNYS-FibMn8, _5E3ggezzww, 7ythk60VILM, u005Fx...</td>\n",
       "      <td>18</td>\n",
       "    </tr>\n",
       "  </tbody>\n",
       "</table>\n",
       "<p>278 rows × 8 columns</p>\n",
       "</div>"
      ],
      "text/plain": [
       "      mix_id  tracks_identified  tracks_total  \\\n",
       "0    mix0018                 13            14   \n",
       "1    mix0066                 10            13   \n",
       "2    mix0126                 14            14   \n",
       "3    mix0136                 19            20   \n",
       "4    mix0141                 17            18   \n",
       "..       ...                ...           ...   \n",
       "273  mix4449                 10            13   \n",
       "274  mix4646                 10            11   \n",
       "275  mix4699                 10            12   \n",
       "276  mix4702                 15            19   \n",
       "277  mix4958                 19            21   \n",
       "\n",
       "                                             tracklist               genre  \\\n",
       "0    [7ZOqI15csjw, None, n4xiIDK8SoI, 4o4joooH5tg, ...              Techno   \n",
       "1    [None, qycAC_6Bbto, _QFaJ10-IfA, mSCtgcTBJpw, ...         Progressive   \n",
       "2    [Nz2SHyePD2o, tcwjlNMPxMM, RV8jSPQtOsU, AdM6Kn...         Progressive   \n",
       "3    [NZWw0wD3Bwk, oBXfAPtGJkg, gINgF2YbAzo, zxxx-U...              Trance   \n",
       "4    [J-IMugmfpU0, 5jxRNG4WqgM, jzZsomI_tUU, G5RCTu...  Progressive Trance   \n",
       "..                                                 ...                 ...   \n",
       "273  [FwvHof6QbVM, 0U5yzv3o6ug, 0gEC_jJ9a9g, None, ...             Various   \n",
       "274  [EPC1u4vQ6Kk, None, InE1GUFz_fA, HrYWeIdEyVE, ...             Various   \n",
       "275  [VDoIfDghpyk, kU65WDeoMps, hOulfSfBhPc, vMZz7X...              Jungle   \n",
       "276  [glAEPjCTr_I, HfdpXQ6cSyw, bJSAqj_aEes, None, ...          Tech House   \n",
       "277  [uNYS-FibMn8, _5E3ggezzww, aO4Hz5i-3dQ, 7ythk6...              Ghetto   \n",
       "\n",
       "     year                                    available_files  files_count  \n",
       "0    1995  [7ZOqI15csjw, n4xiIDK8SoI, 4o4joooH5tg, VKLZ4g...           13  \n",
       "1    2000  [qycAC_6Bbto, _QFaJ10-IfA, mSCtgcTBJpw, Y_Gx61...            9  \n",
       "2    2002  [Nz2SHyePD2o, tcwjlNMPxMM, RV8jSPQtOsU, AdM6Kn...           14  \n",
       "3    2002  [NZWw0wD3Bwk, vq4kUjqBh10, tBnf98KdpWM, tcwjlN...            5  \n",
       "4    2003  [J-IMugmfpU0, 5jxRNG4WqgM, jzZsomI_tUU, G5RCTu...           17  \n",
       "..    ...                                                ...          ...  \n",
       "273  2019  [FwvHof6QbVM, 0U5yzv3o6ug, 0gEC_jJ9a9g, 8dgEKH...            8  \n",
       "274  2019  [EPC1u4vQ6Kk, InE1GUFz_fA, HrYWeIdEyVE, zvFVOv...           10  \n",
       "275  2019  [VDoIfDghpyk, kU65WDeoMps, hOulfSfBhPc, vMZz7X...           10  \n",
       "276  2019  [glAEPjCTr_I, HfdpXQ6cSyw, 0jfovV5K0fk, TLsxXP...           10  \n",
       "277  2020  [uNYS-FibMn8, _5E3ggezzww, 7ythk60VILM, u005Fx...           18  \n",
       "\n",
       "[278 rows x 8 columns]"
      ]
     },
     "execution_count": 4,
     "metadata": {},
     "output_type": "execute_result"
    }
   ],
   "source": [
    "mixes"
   ]
  },
  {
   "cell_type": "code",
   "execution_count": 5,
   "metadata": {},
   "outputs": [
    {
     "data": {
      "text/plain": [
       "genre\n",
       "Acid                   23\n",
       "Chill Out              11\n",
       "Deep House            255\n",
       "Deep Tech House        92\n",
       "Detroit Techno          7\n",
       "Disco                  60\n",
       "Drum & Bass           148\n",
       "Dub                     9\n",
       "Dubstep                25\n",
       "Electro                40\n",
       "Ghetto                 18\n",
       "Hard Techno             9\n",
       "House                 560\n",
       "House (Old School)     49\n",
       "IDM                    21\n",
       "Jungle                 10\n",
       "Minimal                49\n",
       "Pop                    12\n",
       "Progressive            62\n",
       "Progressive House     303\n",
       "Progressive Trance     46\n",
       "Psytrance               9\n",
       "Rare Groove            14\n",
       "Soul                    9\n",
       "Tech House            724\n",
       "Techno                523\n",
       "Trance                 49\n",
       "Various                64\n",
       "Name: files_count, dtype: int64"
      ]
     },
     "execution_count": 5,
     "metadata": {},
     "output_type": "execute_result"
    }
   ],
   "source": [
    "mixes.groupby('genre').files_count.sum()"
   ]
  },
  {
   "cell_type": "code",
   "execution_count": 6,
   "metadata": {},
   "outputs": [
    {
     "data": {
      "text/plain": [
       "genre\n",
       "Acid                   2\n",
       "Chill Out              1\n",
       "Deep House            25\n",
       "Deep Tech House        7\n",
       "Detroit Techno         1\n",
       "Disco                  5\n",
       "Drum & Bass           15\n",
       "Dub                    1\n",
       "Dubstep                2\n",
       "Electro                3\n",
       "Ghetto                 1\n",
       "Hard Techno            1\n",
       "House                 49\n",
       "House (Old School)     3\n",
       "IDM                    2\n",
       "Jungle                 1\n",
       "Minimal                4\n",
       "Pop                    1\n",
       "Progressive            6\n",
       "Progressive House     26\n",
       "Progressive Trance     4\n",
       "Psytrance              1\n",
       "Rare Groove            1\n",
       "Soul                   1\n",
       "Tech House            59\n",
       "Techno                45\n",
       "Trance                 5\n",
       "Various                6\n",
       "Name: mix_id, dtype: int64"
      ]
     },
     "execution_count": 6,
     "metadata": {},
     "output_type": "execute_result"
    }
   ],
   "source": [
    "mixes.groupby('genre').mix_id.count()"
   ]
  },
  {
   "cell_type": "code",
   "execution_count": 7,
   "metadata": {},
   "outputs": [
    {
     "data": {
      "text/plain": [
       "3201"
      ]
     },
     "execution_count": 7,
     "metadata": {},
     "output_type": "execute_result"
    }
   ],
   "source": [
    "mixes.files_count.sum()"
   ]
  },
  {
   "cell_type": "code",
   "execution_count": 8,
   "metadata": {},
   "outputs": [
    {
     "data": {
      "text/html": [
       "<div>\n",
       "<style scoped>\n",
       "    .dataframe tbody tr th:only-of-type {\n",
       "        vertical-align: middle;\n",
       "    }\n",
       "\n",
       "    .dataframe tbody tr th {\n",
       "        vertical-align: top;\n",
       "    }\n",
       "\n",
       "    .dataframe thead th {\n",
       "        text-align: right;\n",
       "    }\n",
       "</style>\n",
       "<table border=\"1\" class=\"dataframe\">\n",
       "  <thead>\n",
       "    <tr style=\"text-align: right;\">\n",
       "      <th></th>\n",
       "      <th>track_id</th>\n",
       "      <th>genre</th>\n",
       "    </tr>\n",
       "  </thead>\n",
       "  <tbody>\n",
       "    <tr>\n",
       "      <th>0</th>\n",
       "      <td>7ZOqI15csjw</td>\n",
       "      <td>Techno</td>\n",
       "    </tr>\n",
       "    <tr>\n",
       "      <th>1</th>\n",
       "      <td>n4xiIDK8SoI</td>\n",
       "      <td>Techno</td>\n",
       "    </tr>\n",
       "    <tr>\n",
       "      <th>2</th>\n",
       "      <td>4o4joooH5tg</td>\n",
       "      <td>Techno</td>\n",
       "    </tr>\n",
       "    <tr>\n",
       "      <th>3</th>\n",
       "      <td>VKLZ4gsw3cg</td>\n",
       "      <td>Techno</td>\n",
       "    </tr>\n",
       "    <tr>\n",
       "      <th>4</th>\n",
       "      <td>XGqydwBHlqA</td>\n",
       "      <td>Techno</td>\n",
       "    </tr>\n",
       "    <tr>\n",
       "      <th>...</th>\n",
       "      <td>...</td>\n",
       "      <td>...</td>\n",
       "    </tr>\n",
       "    <tr>\n",
       "      <th>3196</th>\n",
       "      <td>HTJxoLy25Xo</td>\n",
       "      <td>Ghetto</td>\n",
       "    </tr>\n",
       "    <tr>\n",
       "      <th>3197</th>\n",
       "      <td>YFLt1lhbtKM</td>\n",
       "      <td>Ghetto</td>\n",
       "    </tr>\n",
       "    <tr>\n",
       "      <th>3198</th>\n",
       "      <td>s3dNTgA1eyo</td>\n",
       "      <td>Ghetto</td>\n",
       "    </tr>\n",
       "    <tr>\n",
       "      <th>3199</th>\n",
       "      <td>ffePfl-Ew_c</td>\n",
       "      <td>Ghetto</td>\n",
       "    </tr>\n",
       "    <tr>\n",
       "      <th>3200</th>\n",
       "      <td>H9vP9GPUkGI</td>\n",
       "      <td>Ghetto</td>\n",
       "    </tr>\n",
       "  </tbody>\n",
       "</table>\n",
       "<p>3201 rows × 2 columns</p>\n",
       "</div>"
      ],
      "text/plain": [
       "         track_id   genre\n",
       "0     7ZOqI15csjw  Techno\n",
       "1     n4xiIDK8SoI  Techno\n",
       "2     4o4joooH5tg  Techno\n",
       "3     VKLZ4gsw3cg  Techno\n",
       "4     XGqydwBHlqA  Techno\n",
       "...           ...     ...\n",
       "3196  HTJxoLy25Xo  Ghetto\n",
       "3197  YFLt1lhbtKM  Ghetto\n",
       "3198  s3dNTgA1eyo  Ghetto\n",
       "3199  ffePfl-Ew_c  Ghetto\n",
       "3200  H9vP9GPUkGI  Ghetto\n",
       "\n",
       "[3201 rows x 2 columns]"
      ]
     },
     "execution_count": 8,
     "metadata": {},
     "output_type": "execute_result"
    }
   ],
   "source": [
    "exploded = mixes.explode('available_files')[['available_files', 'genre']]\n",
    "exploded.columns = ['track_id', 'genre']\n",
    "exploded.reset_index(drop=True, inplace=True)\n",
    "exploded"
   ]
  },
  {
   "cell_type": "code",
   "execution_count": 9,
   "metadata": {},
   "outputs": [
    {
     "data": {
      "text/plain": [
       "ViOF32yjtzE    9\n",
       "qTTLH0wSzj8    6\n",
       "RzDoI4fmGv8    5\n",
       "j7Xu95aRC4g    4\n",
       "Ior0a1Bs6ew    4\n",
       "              ..\n",
       "ivbhWeSJbHw    1\n",
       "aNElvNMk_Ds    1\n",
       "D7o5kCj5f9g    1\n",
       "Z9b0NF0g9xo    1\n",
       "H9vP9GPUkGI    1\n",
       "Name: track_id, Length: 2889, dtype: int64"
      ]
     },
     "execution_count": 9,
     "metadata": {},
     "output_type": "execute_result"
    }
   ],
   "source": [
    "exploded.track_id.value_counts()"
   ]
  },
  {
   "cell_type": "code",
   "execution_count": 10,
   "metadata": {},
   "outputs": [
    {
     "data": {
      "text/html": [
       "<div>\n",
       "<style scoped>\n",
       "    .dataframe tbody tr th:only-of-type {\n",
       "        vertical-align: middle;\n",
       "    }\n",
       "\n",
       "    .dataframe tbody tr th {\n",
       "        vertical-align: top;\n",
       "    }\n",
       "\n",
       "    .dataframe thead th {\n",
       "        text-align: right;\n",
       "    }\n",
       "</style>\n",
       "<table border=\"1\" class=\"dataframe\">\n",
       "  <thead>\n",
       "    <tr style=\"text-align: right;\">\n",
       "      <th></th>\n",
       "      <th>track_id</th>\n",
       "      <th>genre</th>\n",
       "    </tr>\n",
       "  </thead>\n",
       "  <tbody>\n",
       "    <tr>\n",
       "      <th>23</th>\n",
       "      <td>tcwjlNMPxMM</td>\n",
       "      <td>Progressive</td>\n",
       "    </tr>\n",
       "    <tr>\n",
       "      <th>25</th>\n",
       "      <td>AdM6KnWKRKo</td>\n",
       "      <td>Progressive</td>\n",
       "    </tr>\n",
       "    <tr>\n",
       "      <th>26</th>\n",
       "      <td>AdM6KnWKRKo</td>\n",
       "      <td>Progressive</td>\n",
       "    </tr>\n",
       "    <tr>\n",
       "      <th>29</th>\n",
       "      <td>fGBEwRFam_4</td>\n",
       "      <td>Progressive</td>\n",
       "    </tr>\n",
       "    <tr>\n",
       "      <th>30</th>\n",
       "      <td>vq4kUjqBh10</td>\n",
       "      <td>Progressive</td>\n",
       "    </tr>\n",
       "    <tr>\n",
       "      <th>...</th>\n",
       "      <td>...</td>\n",
       "      <td>...</td>\n",
       "    </tr>\n",
       "    <tr>\n",
       "      <th>3173</th>\n",
       "      <td>glAEPjCTr_I</td>\n",
       "      <td>Tech House</td>\n",
       "    </tr>\n",
       "    <tr>\n",
       "      <th>3175</th>\n",
       "      <td>0jfovV5K0fk</td>\n",
       "      <td>Tech House</td>\n",
       "    </tr>\n",
       "    <tr>\n",
       "      <th>3177</th>\n",
       "      <td>s2ETa4OTnqY</td>\n",
       "      <td>Tech House</td>\n",
       "    </tr>\n",
       "    <tr>\n",
       "      <th>3178</th>\n",
       "      <td>jhyKeRcGmSE</td>\n",
       "      <td>Tech House</td>\n",
       "    </tr>\n",
       "    <tr>\n",
       "      <th>3180</th>\n",
       "      <td>S1SnOUslizs</td>\n",
       "      <td>Tech House</td>\n",
       "    </tr>\n",
       "  </tbody>\n",
       "</table>\n",
       "<p>558 rows × 2 columns</p>\n",
       "</div>"
      ],
      "text/plain": [
       "         track_id        genre\n",
       "23    tcwjlNMPxMM  Progressive\n",
       "25    AdM6KnWKRKo  Progressive\n",
       "26    AdM6KnWKRKo  Progressive\n",
       "29    fGBEwRFam_4  Progressive\n",
       "30    vq4kUjqBh10  Progressive\n",
       "...           ...          ...\n",
       "3173  glAEPjCTr_I   Tech House\n",
       "3175  0jfovV5K0fk   Tech House\n",
       "3177  s2ETa4OTnqY   Tech House\n",
       "3178  jhyKeRcGmSE   Tech House\n",
       "3180  S1SnOUslizs   Tech House\n",
       "\n",
       "[558 rows x 2 columns]"
      ]
     },
     "execution_count": 10,
     "metadata": {},
     "output_type": "execute_result"
    }
   ],
   "source": [
    "duplicates = exploded[exploded['track_id'].duplicated(keep=False)]\n",
    "duplicates"
   ]
  },
  {
   "cell_type": "code",
   "execution_count": 11,
   "metadata": {},
   "outputs": [],
   "source": [
    "test_tracks = Tracks('../audio/')"
   ]
  },
  {
   "cell_type": "code",
   "execution_count": 12,
   "metadata": {},
   "outputs": [],
   "source": [
    "test_tracks.export_spectrograms('../data/spectrograms/test/')"
   ]
  },
  {
   "cell_type": "code",
   "execution_count": 13,
   "metadata": {},
   "outputs": [],
   "source": [
    "train_tracks = Tracks(mixes)"
   ]
  },
  {
   "cell_type": "code",
   "execution_count": 14,
   "metadata": {},
   "outputs": [
    {
     "ename": "",
     "evalue": "",
     "output_type": "error",
     "traceback": [
      "\u001b[1;31mCanceled future for execute_request message before replies were done"
     ]
    },
    {
     "ename": "",
     "evalue": "",
     "output_type": "error",
     "traceback": [
      "\u001b[1;31mThe Kernel crashed while executing code in the the current cell or a previous cell. Please review the code in the cell(s) to identify a possible cause of the failure. Click <a href='https://aka.ms/vscodeJupyterKernelCrash'>here</a> for more info. View Jupyter <a href='command:jupyter.viewOutput'>log</a> for further details."
     ]
    }
   ],
   "source": [
    "train_tracks.export_spectrograms()"
   ]
  }
 ],
 "metadata": {
  "kernelspec": {
   "display_name": "base",
   "language": "python",
   "name": "python3"
  },
  "language_info": {
   "codemirror_mode": {
    "name": "ipython",
    "version": 3
   },
   "file_extension": ".py",
   "mimetype": "text/x-python",
   "name": "python",
   "nbconvert_exporter": "python",
   "pygments_lexer": "ipython3",
   "version": "3.10.9"
  },
  "orig_nbformat": 4
 },
 "nbformat": 4,
 "nbformat_minor": 2
}
